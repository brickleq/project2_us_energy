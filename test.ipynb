{
 "cells": [
  {
   "cell_type": "code",
   "execution_count": 130,
   "metadata": {},
   "outputs": [],
   "source": [
    "# import necessary libraries\n",
    "import numpy as np\n",
    "import sqlalchemy\n",
    "from sqlalchemy.ext.automap import automap_base\n",
    "from sqlalchemy.orm import Session\n",
    "from sqlalchemy import create_engine, func\n",
    "from flask import (\n",
    "    Flask,\n",
    "    render_template,\n",
    "    jsonify,\n",
    "    request,\n",
    "    redirect)\n",
    "from flask_sqlalchemy import SQLAlchemy\n",
    "from sqlalchemy import create_engine, inspect"
   ]
  },
  {
   "cell_type": "code",
   "execution_count": 131,
   "metadata": {},
   "outputs": [],
   "source": [
    "engine = create_engine(\"sqlite:///assets/db/energyData.sqlite\")"
   ]
  },
  {
   "cell_type": "code",
   "execution_count": 132,
   "metadata": {},
   "outputs": [],
   "source": [
    "# reflect an existing database into a new model\n",
    "Base = automap_base()\n",
    "# reflect the tables\n",
    "Base.prepare(engine, reflect=True)"
   ]
  },
  {
   "cell_type": "code",
   "execution_count": 133,
   "metadata": {},
   "outputs": [],
   "source": [
    "# Declare a Base using `automap_base()`\n",
    "Base = automap_base()"
   ]
  },
  {
   "cell_type": "code",
   "execution_count": 134,
   "metadata": {},
   "outputs": [
    {
     "name": "stdout",
     "output_type": "stream",
     "text": [
      "(0, 'Illinois', 891.6, 796.2, 1176.2, 1007.5)\n",
      "(1, 'Kentucky', 332.0, 257.0, 598.5, 470.7)\n",
      "(2, 'Texas', 1640.6, 1600.5, 6754.4, 3370.3)\n"
     ]
    }
   ],
   "source": [
    "# Query All Records in the the Database\n",
    "data = engine.execute(\"SELECT * FROM energyconsumpsector\")\n",
    "for record in data:\n",
    "    print(record)"
   ]
  },
  {
   "cell_type": "code",
   "execution_count": 135,
   "metadata": {},
   "outputs": [
    {
     "name": "stdout",
     "output_type": "stream",
     "text": [
      "(0, 'Illinois', 4, 985, 4543, 7641, 0, 1255)\n",
      "(1, 'Kentucky', 8, 877, 4353, 0, 316, 39)\n",
      "(2, 'Texas', 4, 15251, 7450, 3430, 150, 6962)\n"
     ]
    }
   ],
   "source": [
    "# Query All Records in the the Database\n",
    "data = engine.execute(\"SELECT * FROM electricitygeneration\")\n",
    "for record in data:\n",
    "    print(record)"
   ]
  },
  {
   "cell_type": "code",
   "execution_count": 136,
   "metadata": {},
   "outputs": [],
   "source": [
    "# Create the inspector and connect it to the engine\n",
    "inspector = inspect(engine)"
   ]
  },
  {
   "cell_type": "code",
   "execution_count": 137,
   "metadata": {},
   "outputs": [
    {
     "data": {
      "text/plain": [
       "['electricitygeneration', 'energyconsumpsector']"
      ]
     },
     "execution_count": 137,
     "metadata": {},
     "output_type": "execute_result"
    }
   ],
   "source": [
    "# Collect the names of tables within the database\n",
    "inspector.get_table_names()"
   ]
  },
  {
   "cell_type": "code",
   "execution_count": 138,
   "metadata": {},
   "outputs": [
    {
     "data": {
      "text/plain": [
       "[]"
      ]
     },
     "execution_count": 138,
     "metadata": {},
     "output_type": "execute_result"
    }
   ],
   "source": [
    "# Print all of the classes mapped to the Base\n",
    "Base.classes.keys()"
   ]
  },
  {
   "cell_type": "code",
   "execution_count": 139,
   "metadata": {},
   "outputs": [],
   "source": [
    "# Create a \"Metadata\" Layer That Abstracts our SQL Database\n",
    "# ----------------------------------\n",
    "Base.metadata.create_all(engine)\n",
    "\n",
    "# Use this to clear out the db\n",
    "# ----------------------------------\n",
    "# Base.metadata.drop_all(engine)"
   ]
  },
  {
   "cell_type": "code",
   "execution_count": 140,
   "metadata": {},
   "outputs": [],
   "source": [
    "# Save a reference to the invoices table as `Invoices`\n",
    "#ConsumptionSector = Base.classes.energyconsumpsector"
   ]
  },
  {
   "cell_type": "code",
   "execution_count": 169,
   "metadata": {},
   "outputs": [
    {
     "name": "stdout",
     "output_type": "stream",
     "text": [
      "{\"EnergyConsumptionSector\": [{\"index\": 0, \"State\": \"Illinois\", \"Residential\": 891.6, \"Commercial\": 796.2, \"Industrial\": 1176.2, \"Transportation\": 1007.5}, {\"index\": 1, \"State\": \"Kentucky\", \"Residential\": 332.0, \"Commercial\": 257.0, \"Industrial\": 598.5, \"Transportation\": 470.7}, {\"index\": 2, \"State\": \"Texas\", \"Residential\": 1640.6, \"Commercial\": 1600.5, \"Industrial\": 6754.4, \"Transportation\": 3370.3}]}\n",
      "[{'index': 0, 'State': 'Illinois', 'Residential': 891.6, 'Commercial': 796.2, 'Industrial': 1176.2, 'Transportation': 1007.5}, {'index': 1, 'State': 'Kentucky', 'Residential': 332.0, 'Commercial': 257.0, 'Industrial': 598.5, 'Transportation': 470.7}, {'index': 2, 'State': 'Texas', 'Residential': 1640.6, 'Commercial': 1600.5, 'Industrial': 6754.4, 'Transportation': 3370.3}]\n"
     ]
    }
   ],
   "source": [
    "import sqlite3\n",
    "import json\n",
    "con = sqlite3.connect('./assets/db/energyData.sqlite')\n",
    "#con.row_factory = sqlite3.Row\n",
    "c = con.cursor()\n",
    "result = c.execute('select * from energyconsumpsector')\n",
    "items = [dict(zip([key[0] for key in c.description],row))for row in result]\n",
    "print(json.dumps({'EnergyConsumptionSector':items}))\n",
    "\n",
    "# items = []\n",
    "# for row in result:\n",
    "#         for key in c.description:\n",
    "#             items.append({key[0]: value for value in row})\n",
    "# print(json.dumps({'items':items}))\n",
    "\n",
    "# for row in c.execute('select * from energyconsumpsector'):\n",
    "#     print(row.keys())\n",
    "#     print(tuple(row))\n",
    "#     data = c.fetchall()\n",
    "# print(json.dumps(data))\n",
    "\n",
    "con.close()"
   ]
  },
  {
   "cell_type": "code",
   "execution_count": 153,
   "metadata": {},
   "outputs": [
    {
     "name": "stdout",
     "output_type": "stream",
     "text": [
      "<sqlalchemy.engine.result.ResultProxy object at 0x0000014FFF6AC4A8>\n"
     ]
    }
   ],
   "source": [
    "import json\n",
    "import sqlite3\n",
    "\n",
    "def get_my_jsonified_data(key):\n",
    "    with sqlite3.connect('./assets/db/energyData.sqlite') as conn:\n",
    "        cursor = conn.cursor()\n",
    "        cursor.execute(\"select * from energyconsumpsector\")\n",
    "        data = cursor.fetchall()\n",
    "        return json.dumps(data)\n",
    "\n",
    "print(data)\n",
    "#https://stackoverflow.com/questions/25564399/send-json-response-from-sqlite-queries-in-python"
   ]
  },
  {
   "cell_type": "code",
   "execution_count": null,
   "metadata": {},
   "outputs": [],
   "source": []
  }
 ],
 "metadata": {
  "kernelspec": {
   "display_name": "Python 3",
   "language": "python",
   "name": "python3"
  },
  "language_info": {
   "codemirror_mode": {
    "name": "ipython",
    "version": 3
   },
   "file_extension": ".py",
   "mimetype": "text/x-python",
   "name": "python",
   "nbconvert_exporter": "python",
   "pygments_lexer": "ipython3",
   "version": "3.7.0"
  }
 },
 "nbformat": 4,
 "nbformat_minor": 2
}
