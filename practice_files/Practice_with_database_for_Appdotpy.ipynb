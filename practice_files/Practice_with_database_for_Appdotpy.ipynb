{
 "cells": [
  {
   "cell_type": "markdown",
   "metadata": {},
   "source": [
    "## Use this file to test the energyData.sqlite database"
   ]
  },
  {
   "cell_type": "code",
   "execution_count": 23,
   "metadata": {},
   "outputs": [],
   "source": [
    "# import necessary libraries\n",
    "import numpy as np\n",
    "import sqlalchemy\n",
    "from sqlalchemy.ext.automap import automap_base\n",
    "from sqlalchemy.orm import Session\n",
    "from sqlalchemy import create_engine, func\n",
    "from flask import (\n",
    "    Flask,\n",
    "    render_template,\n",
    "    jsonify,\n",
    "    request,\n",
    "    redirect)\n",
    "from flask_sqlalchemy import SQLAlchemy\n",
    "from sqlalchemy import create_engine, inspect"
   ]
  },
  {
   "cell_type": "markdown",
   "metadata": {},
   "source": [
    "### Create a connection with the database file"
   ]
  },
  {
   "cell_type": "code",
   "execution_count": 24,
   "metadata": {},
   "outputs": [],
   "source": [
    "engine = create_engine(\"sqlite:///../static/db/energyData.sqlite\")"
   ]
  },
  {
   "cell_type": "markdown",
   "metadata": {},
   "source": [
    "### Use this path to interact with the database created using SQLAlchemy"
   ]
  },
  {
   "cell_type": "code",
   "execution_count": 25,
   "metadata": {},
   "outputs": [],
   "source": [
    "# reflect an existing database into a new model\n",
    "Base = automap_base()"
   ]
  },
  {
   "cell_type": "code",
   "execution_count": 26,
   "metadata": {},
   "outputs": [],
   "source": [
    "# reflect the tables\n",
    "Base.prepare(engine, reflect=True)"
   ]
  },
  {
   "cell_type": "code",
   "execution_count": 27,
   "metadata": {},
   "outputs": [
    {
     "name": "stdout",
     "output_type": "stream",
     "text": [
      "['US_production_consumption', 'electricity_generation_source', 'energy_consumption_estimates', 'energy_consumption_sector', 'energy_production', 'plant_data', 'price_differences']\n"
     ]
    }
   ],
   "source": [
    "# Print all of the classes mapped to the Base\n",
    "print(Base.classes.keys())"
   ]
  },
  {
   "cell_type": "code",
   "execution_count": 28,
   "metadata": {},
   "outputs": [],
   "source": [
    "# Create the inspector and connect it to the engine\n",
    "inspector = inspect(engine)"
   ]
  },
  {
   "cell_type": "code",
   "execution_count": 29,
   "metadata": {},
   "outputs": [
    {
     "data": {
      "text/plain": [
       "['US_production_consumption',\n",
       " 'electricity_generation_source',\n",
       " 'energy_consumption_estimates',\n",
       " 'energy_consumption_sector',\n",
       " 'energy_production',\n",
       " 'plant_data',\n",
       " 'price_differences',\n",
       " 'sqlite_sequence']"
      ]
     },
     "execution_count": 29,
     "metadata": {},
     "output_type": "execute_result"
    }
   ],
   "source": [
    "# Collect the names of tables within the database\n",
    "inspector.get_table_names()"
   ]
  },
  {
   "cell_type": "code",
   "execution_count": 30,
   "metadata": {},
   "outputs": [
    {
     "name": "stdout",
     "output_type": "stream",
     "text": [
      "(1, 'Illinois', 891.6, 796.2, 1176.2, 1007.5)\n",
      "(2, 'Kentucky', 332, 257, 598.5, 470.7)\n",
      "(3, 'Texas', 1640.6, 1600.5, 6754.4, 3370.3)\n"
     ]
    }
   ],
   "source": [
    "# Query All Records in the the Database\n",
    "data = engine.execute(\"SELECT * FROM energy_consumption_sector\")\n",
    "for record in data:\n",
    "    print(record)"
   ]
  },
  {
   "cell_type": "code",
   "execution_count": 31,
   "metadata": {},
   "outputs": [],
   "source": [
    "# Create a \"Metadata\" Layer That Abstracts our SQL Database\n",
    "Base.metadata.create_all(engine)\n",
    "\n",
    "# Use this to clear out the db\n",
    "# Base.metadata.drop_all(engine)"
   ]
  },
  {
   "cell_type": "code",
   "execution_count": 32,
   "metadata": {},
   "outputs": [],
   "source": [
    "# Save a reference to the StateEnergyConumptionSector table as `ConsumptionSector`\n",
    "ConsumptionSector = Base.classes.energy_consumption_sector\n",
    "ElectricityGeneration = Base.classes.electricity_generation_source\n",
    "EnergyConsumption = Base.classes.energy_consumption_estimates\n",
    "PlantData = Base.classes.plant_data\n",
    "EnergyProduction = Base.classes.energy_production\n",
    "PriceDifferences = Base.classes.price_differences\n",
    "USProductionConsumption = Base.classes.US_production_consumption"
   ]
  },
  {
   "cell_type": "code",
   "execution_count": 33,
   "metadata": {},
   "outputs": [],
   "source": [
    "# Create a database session object\n",
    "session = Session(engine)"
   ]
  },
  {
   "cell_type": "code",
   "execution_count": 34,
   "metadata": {},
   "outputs": [],
   "source": [
    "#results = session.query(ConsumptionSector.State).all()\n",
    "#print(results)"
   ]
  },
  {
   "cell_type": "code",
   "execution_count": 35,
   "metadata": {},
   "outputs": [
    {
     "name": "stdout",
     "output_type": "stream",
     "text": [
      "[{'State': 'Illinois', 'Residential': 891.6, 'Commercial': 796.2, 'Industrial': 1176.2, 'Transportation': 1007.5}, {'State': 'Kentucky', 'Residential': 332, 'Commercial': 257, 'Industrial': 598.5, 'Transportation': 470.7}, {'State': 'Texas', 'Residential': 1640.6, 'Commercial': 1600.5, 'Industrial': 6754.4, 'Transportation': 3370.3}]\n"
     ]
    }
   ],
   "source": [
    "def consumptionSectors():\n",
    "    # Query all states\n",
    "    results = session.query(ConsumptionSector.State, \n",
    "            ConsumptionSector.Residential, \n",
    "            ConsumptionSector.Commercial, \n",
    "            ConsumptionSector.Industrial,\n",
    "            ConsumptionSector.Transportation).all()\n",
    "    #print(results)\n",
    "    # Create a dictionary from the row data and append to a list of all_passengers\n",
    "    consumption_sector = []\n",
    "    for State, Residential, Commercial, Industrial, Transportation in results:\n",
    "        consumption_sector_dict = {}\n",
    "        consumption_sector_dict[\"State\"] = State\n",
    "        consumption_sector_dict[\"Residential\"] = Residential\n",
    "        consumption_sector_dict[\"Commercial\"] = Commercial\n",
    "        consumption_sector_dict[\"Industrial\"] = Industrial\n",
    "        consumption_sector_dict[\"Transportation\"] = Transportation\n",
    "        consumption_sector.append(consumption_sector_dict)\n",
    "    #return jsonify(consumption_sector)\n",
    "    print(consumption_sector)\n",
    "\n",
    "consumptionSectors()"
   ]
  },
  {
   "cell_type": "code",
   "execution_count": 36,
   "metadata": {},
   "outputs": [
    {
     "name": "stdout",
     "output_type": "stream",
     "text": [
      "(1, 'Illinois', 4, 985, 4543, 7641, 0, 1255)\n",
      "(2, 'Kentucky', 8, 877, 4353, 0, 316, 39)\n",
      "(3, 'Texas', 4, 15251, 7450, 3430, 150, 6962)\n"
     ]
    }
   ],
   "source": [
    "# Query All Records in the the Database\n",
    "data = engine.execute(\"SELECT * FROM electricity_generation_source\")\n",
    "for record in data:\n",
    "    print(record)"
   ]
  },
  {
   "cell_type": "code",
   "execution_count": 37,
   "metadata": {},
   "outputs": [],
   "source": [
    "def electricityGeneration():\n",
    "    # Query all states\n",
    "    results = session.query(ElectricityGeneration.State, \n",
    "            ElectricityGeneration.Petroleum_Fired, \n",
    "            ElectricityGeneration.Natural_Gas_Fired, \n",
    "            ElectricityGeneration.Coal_Fired,\n",
    "            ElectricityGeneration.Nuclear,\n",
    "            ElectricityGeneration.Hydroelectric,\n",
    "            ElectricityGeneration.Nonhydroelectric_Renewables).all()\n",
    "    #print(results)\n",
    "    # Create a dictionary from the row data and append to a list of all_passengers\n",
    "    electricity_generation = []\n",
    "    for State, Petroleum_Fired, Natural_Gas_Fired, Coal_Fired, Nuclear, Hydroelectric, Nonhydroelectric_Renewables  in results:\n",
    "        electricity_generation_dict = {}\n",
    "        electricity_generation_dict[\"State\"] = State\n",
    "        electricity_generation_dict[\"Petroleum Fired\"] = Petroleum_Fired\n",
    "        electricity_generation_dict[\"Natural Gas Fired\"] = Natural_Gas_Fired\n",
    "        electricity_generation_dict[\"Coal Fired\"] = Coal_Fired\n",
    "        electricity_generation_dict[\"Nuclear\"] = Nuclear\n",
    "        electricity_generation_dict[\"Hydroelectric\"] = Hydroelectric\n",
    "        electricity_generation_dict[\"Nonhydroelectric_Renewables\"] = Nonhydroelectric_Renewables\n",
    "        electricity_generation.append(electricity_generation_dict)\n",
    "    return jsonify(electricity_generation)"
   ]
  },
  {
   "cell_type": "code",
   "execution_count": 38,
   "metadata": {},
   "outputs": [
    {
     "name": "stdout",
     "output_type": "stream",
     "text": [
      "(1, 'Illinois', 685, 1035, 540.2, 304.3, 159.7, 69.7, 1.3, 166.6, 1016.5, 1.2, 147.5, 117.3, 0, -372.8)\n",
      "(2, 'Kentucky', 639.4, 296.9, 249.4, 150.5, 72, 31.7, 0.2, 77.6, 0, 41.5, 52.6, 3.2, 0, 43.4)\n",
      "(3, 'Texas', 1452, 3994.2, 1596, 1045, 550.2, 1914.8, 194.3, 1212.8, 403.5, 9.8, 221.3, 645.5, -19.1, 145.6)\n"
     ]
    }
   ],
   "source": [
    "# Query All Records in the the Database\n",
    "data = engine.execute(\"SELECT * FROM energy_consumption_estimates\")\n",
    "for record in data:\n",
    "    print(record)"
   ]
  },
  {
   "cell_type": "code",
   "execution_count": 39,
   "metadata": {},
   "outputs": [
    {
     "name": "stdout",
     "output_type": "stream",
     "text": [
      "[{'State': 'Illinois', 'Coal': 685, 'Natural_Gas': 1035, 'Motor_Gasoline_excl_Ethanol': 540.2, 'Distillate_Fuel_Oil': 304.3, 'Jet_Fuel': 159.7, 'HGL': 69.7, 'Residual_Fuel': 1.3, 'Other_Petroleum': 166.6, 'Nuclear_Electric_Power': 1016.5, 'Hydroelectric_Power': 1.2, 'Biomass': 147.5, 'Other_Renewables': 117.3, 'Net_Electricity_Imports': 0, 'Net_Interstate_Flow_of_Electricity': -372.8}, {'State': 'Kentucky', 'Coal': 639.4, 'Natural_Gas': 296.9, 'Motor_Gasoline_excl_Ethanol': 249.4, 'Distillate_Fuel_Oil': 150.5, 'Jet_Fuel': 72, 'HGL': 31.7, 'Residual_Fuel': 0.2, 'Other_Petroleum': 77.6, 'Nuclear_Electric_Power': 0, 'Hydroelectric_Power': 41.5, 'Biomass': 52.6, 'Other_Renewables': 3.2, 'Net_Electricity_Imports': 0, 'Net_Interstate_Flow_of_Electricity': 43.4}, {'State': 'Texas', 'Coal': 1452, 'Natural_Gas': 3994.2, 'Motor_Gasoline_excl_Ethanol': 1596, 'Distillate_Fuel_Oil': 1045, 'Jet_Fuel': 550.2, 'HGL': 1914.8, 'Residual_Fuel': 194.3, 'Other_Petroleum': 1212.8, 'Nuclear_Electric_Power': 403.5, 'Hydroelectric_Power': 9.8, 'Biomass': 221.3, 'Other_Renewables': 645.5, 'Net_Electricity_Imports': -19.1, 'Net_Interstate_Flow_of_Electricity': 145.6}]\n"
     ]
    }
   ],
   "source": [
    "def energyConsumption():\n",
    "    # Query all states\n",
    "    results = session.query(EnergyConsumption.State, \n",
    "            EnergyConsumption.Coal, \n",
    "            EnergyConsumption.Natural_Gas, \n",
    "            EnergyConsumption.Motor_Gasoline_excl_Ethanol,\n",
    "            EnergyConsumption.Distillate_Fuel_Oil,\n",
    "            EnergyConsumption.Jet_Fuel,\n",
    "            EnergyConsumption.HGL,\n",
    "            EnergyConsumption.Residual_Fuel,\n",
    "            EnergyConsumption.Other_Petroleum,\n",
    "            EnergyConsumption.Nuclear_Electric_Power,\n",
    "            EnergyConsumption.Hydroelectric_Power,\n",
    "            EnergyConsumption.Biomass,\n",
    "            EnergyConsumption.Other_Renewables,\n",
    "            EnergyConsumption.Net_Electricity_Imports,\n",
    "            EnergyConsumption.Net_Interstate_Flow_of_Electricity).all()\n",
    "    #print(results)\n",
    "    # Create a dictionary from the row data and append to a list of all_passengers\n",
    "    energy_consumption = []\n",
    "    \n",
    "    for State, Coal, Natural_Gas, Motor_Gasoline_excl_Ethanol, Distillate_Fuel_Oil, Jet_Fuel, HGL, Residual_Fuel, Other_Petroleum, Nuclear_Electric_Power, Hydroelectric_Power, Biomass, Other_Renewables, Net_Electricity_Imports, Net_Interstate_Flow_of_Electricity in results:\n",
    "        energy_consumption_dict = {}\n",
    "        energy_consumption_dict[\"State\"] = State\n",
    "        energy_consumption_dict[\"Coal\"] = Coal\n",
    "        energy_consumption_dict[\"Natural_Gas\"] = Natural_Gas\n",
    "        energy_consumption_dict[\"Motor_Gasoline_excl_Ethanol\"] = Motor_Gasoline_excl_Ethanol\n",
    "        energy_consumption_dict[\"Distillate_Fuel_Oil\"] = Distillate_Fuel_Oil\n",
    "        energy_consumption_dict[\"Jet_Fuel\"] = Jet_Fuel\n",
    "        energy_consumption_dict[\"HGL\"] = HGL\n",
    "        energy_consumption_dict[\"Residual_Fuel\"] = Residual_Fuel\n",
    "        energy_consumption_dict[\"Other_Petroleum\"] = Other_Petroleum\n",
    "        energy_consumption_dict[\"Nuclear_Electric_Power\"] = Nuclear_Electric_Power\n",
    "        energy_consumption_dict[\"Hydroelectric_Power\"] = Hydroelectric_Power\n",
    "        energy_consumption_dict[\"Biomass\"] = Biomass\n",
    "        energy_consumption_dict[\"Other_Renewables\"] = Other_Renewables\n",
    "        energy_consumption_dict[\"Net_Electricity_Imports\"] = Net_Electricity_Imports\n",
    "        energy_consumption_dict[\"Net_Interstate_Flow_of_Electricity\"] = Net_Interstate_Flow_of_Electricity\n",
    "        energy_consumption.append(energy_consumption_dict)\n",
    "    print(energy_consumption)\n",
    "    #return jsonify(energy_consumption)\n",
    "\n",
    "energyConsumption()"
   ]
  },
  {
   "cell_type": "code",
   "execution_count": 40,
   "metadata": {},
   "outputs": [
    {
     "name": "stdout",
     "output_type": "stream",
     "text": [
      "{'Utility_ID': 794, 'Utility_Name': 'Apollo Energy Corp', 'Plant_Name': 'Kamaoa Wind Farm', 'Street_Address': '93-1373 South Point Road', 'City': \"Ka'u\", 'State': 'HI', 'Zip': 96772, 'County': 'Hawaii', 'Latitude': 18.992222, 'Longitude': -155.668056, 'Name_of_Water_Source': None, 'Primary_Purpose_NAICS_Code': 22, 'Sector_Name': 'IPP Non-CHP', 'Grid_Voltage_kV': 0}\n"
     ]
    }
   ],
   "source": [
    "def plantData():\n",
    "    # Query all states\n",
    "    results = session.query(PlantData.Utility_ID, \n",
    "            PlantData.Utility_Name, \n",
    "            PlantData.Plant_Code, \n",
    "            PlantData.Plant_Name, \n",
    "            PlantData.Street_Address, \n",
    "            PlantData.City, \n",
    "            PlantData.State, \n",
    "            PlantData.Zip, \n",
    "            PlantData.County, \n",
    "            PlantData.Latitude, \n",
    "            PlantData.Longitude, \n",
    "            PlantData.Name_of_Water_Source, \n",
    "            PlantData.Primary_Purpose_NAICS_Code, \n",
    "            PlantData.Sector_Name,\n",
    "            PlantData.Grid_Voltage_kV).all()\n",
    "    #print(results)\n",
    "  \n",
    "    # Create a dictionary from the row data and append to a list of all_passengers\n",
    "       \n",
    "    plant_data = []\n",
    "   \n",
    "    for Utility_ID, Utility_Name, Plant_Code, Plant_Name, Street_Address, City, State, Zip, County, Latitude, Longitude, Name_of_Water_Source, Primary_Purpose_NAICS_Code, Sector_Name, Grid_Voltage_kV in results:\n",
    "        plant_data_dict = {}\n",
    "        plant_data_dict[\"Utility_ID\"] = Utility_ID\n",
    "        plant_data_dict[\"Utility_Name\"] = Utility_Name\n",
    "        plant_data_dict[\"Plant_Name\"] = Plant_Name\n",
    "        plant_data_dict[\"Street_Address\"] = Street_Address\n",
    "        plant_data_dict[\"City\"] = City\n",
    "        plant_data_dict[\"State\"] = State\n",
    "        plant_data_dict[\"Zip\"] = Zip\n",
    "        plant_data_dict[\"County\"] = County\n",
    "        plant_data_dict[\"Latitude\"] = Latitude\n",
    "        plant_data_dict[\"Longitude\"] = Longitude\n",
    "        plant_data_dict[\"Name_of_Water_Source\"] = Name_of_Water_Source\n",
    "        plant_data_dict[\"Primary_Purpose_NAICS_Code\"] = Primary_Purpose_NAICS_Code\n",
    "        plant_data_dict[\"Sector_Name\"] = Sector_Name\n",
    "        plant_data_dict[\"Grid_Voltage_kV\"] = Grid_Voltage_kV\n",
    "        plant_data.append(plant_data_dict)\n",
    "    print(plant_data[1])\n",
    "    #return jsonify(plant_data)\n",
    "\n",
    "plantData()"
   ]
  },
  {
   "cell_type": "code",
   "execution_count": 41,
   "metadata": {},
   "outputs": [
    {
     "name": "stdout",
     "output_type": "stream",
     "text": [
      "[{'State': 'Illinois', 'Coal': 977.1, 'Natural_Gas_Marketed': 2.3, 'Crude_Oil': 49.4, 'Nuclear_Electric_Power': 1031.3, 'Biofuels': 218, 'Other_Renewable_Energy': 128}, {'State': 'Kentucky', 'Coal': 1041.1, 'Natural_Gas_Marketed': 102.7, 'Crude_Oil': 14.8, 'Nuclear_Electric_Power': 0, 'Biofuels': 4.9, 'Other_Renewable_Energy': 70.3}, {'State': 'Texas', 'Coal': 515.7, 'Natural_Gas_Marketed': 8695.5, 'Crude_Oil': 6729.3, 'Nuclear_Electric_Power': 440.1, 'Biofuels': 53.4, 'Other_Renewable_Energy': 645.7}]\n"
     ]
    }
   ],
   "source": [
    "def energyProduction():\n",
    "    # Query all states\n",
    "    results = session.query(EnergyProduction.State, \n",
    "            EnergyProduction.Coal, \n",
    "            EnergyProduction.Natural_Gas_Marketed, \n",
    "            EnergyProduction.Crude_Oil, \n",
    "            EnergyProduction.Nuclear_Electric_Power, \n",
    "            EnergyProduction.Biofuels, \n",
    "            EnergyProduction.Other_Renewable_Energy).all()\n",
    "    #print(results)\n",
    "\n",
    "    # Create a dictionary from the row data and append to a list of all_passengers\n",
    "       \n",
    "    energy_production = []\n",
    "   \n",
    "    for State, Coal, Natural_Gas_Marketed, Crude_Oil, Nuclear_Electric_Power, Biofuels, Other_Renewable_Energy in results:\n",
    "        energy_production_dict = {}\n",
    "        energy_production_dict[\"State\"] = State\n",
    "        energy_production_dict[\"Coal\"] = Coal\n",
    "        energy_production_dict[\"Natural_Gas_Marketed\"] = Natural_Gas_Marketed\n",
    "        energy_production_dict[\"Crude_Oil\"] = Crude_Oil\n",
    "        energy_production_dict[\"Nuclear_Electric_Power\"] = Nuclear_Electric_Power\n",
    "        energy_production_dict[\"Biofuels\"] = Biofuels\n",
    "        energy_production_dict[\"Other_Renewable_Energy\"] = Other_Renewable_Energy\n",
    "        energy_production.append(energy_production_dict)\n",
    "    print(energy_production)\n",
    "    #return jsonify(energy_production)\n",
    "\n",
    "energyProduction()"
   ]
  },
  {
   "cell_type": "code",
   "execution_count": 42,
   "metadata": {},
   "outputs": [
    {
     "name": "stdout",
     "output_type": "stream",
     "text": [
      "[{'State': 'Illinios', 'Natural_Gas_Citygate': -16.71, 'Natural_Gas_Residential': -24.24, 'Electricity_Residential': -1.97, 'Electricity_Commercial': -13.78, 'Electricity_Industrial': 0.45}, {'State': 'Kentucky', 'Natural_Gas_Citygate': 0, 'Natural_Gas_Residential': -3.27, 'Electricity_Residential': -18.74, 'Electricity_Commercial': -3.99, 'Electricity_Industrial': -17.22}, {'State': 'Texas', 'Natural_Gas_Citygate': 10.8, 'Natural_Gas_Residential': -12.86, 'Electricity_Residential': -8.03, 'Electricity_Commercial': -21.48, 'Electricity_Industrial': -22.16}]\n"
     ]
    }
   ],
   "source": [
    "def priceDifferences():\n",
    "    # Query all states\n",
    "    results = session.query(PriceDifferences.State, \n",
    "            PriceDifferences.Natural_Gas_Citygate, \n",
    "            PriceDifferences.Natural_Gas_Residential, \n",
    "            PriceDifferences.Electricity_Residential, \n",
    "            PriceDifferences.Electricity_Commercial, \n",
    "            PriceDifferences.Electricity_Industrial).all()\n",
    "    #print(results)\n",
    "\n",
    "    # Create a dictionary from the row data and append to a list of all_passengers\n",
    "       \n",
    "    price_differences = []\n",
    "   \n",
    "    for State, Natural_Gas_Citygate, Natural_Gas_Residential, Electricity_Residential, Electricity_Commercial, Electricity_Industrial in results:\n",
    "        price_differences_dict = {}\n",
    "        price_differences_dict[\"State\"] = State\n",
    "        price_differences_dict[\"Natural_Gas_Citygate\"] = Natural_Gas_Citygate\n",
    "        price_differences_dict[\"Natural_Gas_Residential\"] = Natural_Gas_Residential\n",
    "        price_differences_dict[\"Electricity_Residential\"] = Electricity_Residential\n",
    "        price_differences_dict[\"Electricity_Commercial\"] = Electricity_Commercial\n",
    "        price_differences_dict[\"Electricity_Industrial\"] = Electricity_Industrial\n",
    "        price_differences.append(price_differences_dict)\n",
    "    print(price_differences)\n",
    "    #return jsonify(price_differences)\n",
    "\n",
    "priceDifferences()"
   ]
  },
  {
   "cell_type": "code",
   "execution_count": 43,
   "metadata": {},
   "outputs": [
    {
     "name": "stdout",
     "output_type": "stream",
     "text": [
      "(1, 'ALASKA', 'Alaska', 'AK', 'Alaska', 941.94, 885.559, 1.7, 13, 809, 3, 6241, 2)\n",
      "(2, 'ALABAMA', 'Alabama', 'AL', 'Ala.', 16336.245, 24169.776, 1.3, 16, 398, 12, 3969, 8)\n",
      "(3, 'ARKANSAS', 'Arkansas', 'AR', 'Ark.', 17523.535, 19368.424, 1.3, 15, 354, 17, 3448, 22)\n",
      "(4, 'ARIZONA', 'Arizona', 'AZ', 'Ariz.', 16813.552, 22911.006, 0.7, 29, 213, 43, 2758, 48)\n",
      "(5, 'CALIFORNIA', 'California', 'CA', 'Calif.', 635.12, 878.434, 2.9, 10, 199, 48, 2872, 44)\n",
      "(6, 'COLORADO', 'Colorado', 'CO', 'Colo.', 15354.101, 17944.255, 3.7, 7, 268, 34, 2681, 49)\n",
      "(7, 'CONNECTICUT', 'Connecticut', 'CT', 'Conn.', 220.578, 499.319, 0.2, 40, 202, 47, 3282, 27)\n",
      "(8, 'DELAWARE', 'Delaware', 'DE', 'Del.', 166.59599999999998, 397.11300000000006, 0, 50, 287, 29, 3281, 28)\n",
      "(9, 'FLORIDA', 'Florida', 'FL', 'Fla.', 13495.08899, 23309.82487, 0.7, 30, 205, 46, 2525, 50)\n",
      "(10, 'GEORGIA', 'Georgia', 'GA', 'Ga.', 17216.528000000002, 23254.481, 0.8, 28, 275, 33, 3022, 37)\n",
      "(11, 'HAWAII', 'Hawaii', 'HI', 'Hawaii', 734.3510000000001, 830.572, 0, 48, 198, 49, 3526, 20)\n",
      "(12, 'IOWA', 'Iowa', 'IA', 'Iowa', 18645.376, 22690.389, 1, 23, 489, 5, 4052, 6)\n",
      "(13, 'IDAHO', 'Idaho', 'ID', 'Idaho', 57.168, 214.062, 0.2, 43, 315, 23, 3374, 23)\n",
      "(14, 'ILLINOIS', 'Illinois', 'IL', 'Ill.', 38203.295, 54532.329000000005, 2.9, 12, 304, 25, 2924, 39)\n",
      "(15, 'INDIANA', 'Indiana', 'IN', 'Ind.', 39214.156, 48721.53362, 1.1, 19, 422, 9, 3787, 15)\n",
      "(16, 'KANSAS', 'Kansas', 'KS', 'Kan.', 13136.167, 18198.644, 0.9, 24, 376, 16, 3621, 18)\n",
      "(17, 'KENTUCKY', 'Kentucky', 'KY', 'Ky.', 28566.789, 39213.757000000005, 1.5, 14, 384, 14, 3650, 17)\n",
      "(18, 'LOUISIANA', 'Louisiana', 'LA', 'La.', 8110.98, 12632.39, 3, 9, 897, 1, 5637, 4)\n",
      "(19, 'MASSACHUSETTS', 'Massachusetts', 'MA', 'Mass.', 0, 1295.367, 0.1, 45, 209, 44, 3155, 31)\n",
      "(20, 'MARYLAND', 'Maryland', 'MD', 'Md.', 4669.129, 7778.429, 0.3, 38, 226, 41, 2925, 38)\n",
      "(21, 'MAINE', 'Maine', 'ME', 'Maine', 80.358, 85.463, 0.2, 44, 292, 28, 3968, 9)\n",
      "(22, 'MICHIGAN', 'Michigan', 'MI', 'Mich.', 24737.627999999997, 29790.04, 0.8, 26, 277, 32, 3082, 35)\n",
      "(23, 'MINNESOTA', 'Minnesota', 'MN', 'Minn.', 14656.825, 17624.789, 0.6, 32, 327, 20, 3319, 25)\n",
      "(24, 'MISSOURI', 'Missouri', 'MO', 'Mo.', 37138.75, 43226.403, 0.2, 41, 292, 27, 3262, 29)\n",
      "(25, 'MISSISSIPPI', 'Mississippi', 'MS', 'Miss.', 4505.93, 6550.473000000001, 0.4, 36, 391, 13, 3949, 11)\n",
      "(26, 'MONTANA', 'Montana', 'MT', 'Mont.', 8747.030999999999, 10225.201, 1, 21, 380, 15, 3826, 14)\n",
      "(27, 'NORTH CAROLINA', 'North Carolina', 'NC', 'N.C.', 12959.743, 20108.751, 0.8, 27, 251, 37, 2888, 42)\n",
      "(28, 'NORTH DAKOTA', 'North Dakota', 'ND', 'N.D.', 23346.731, 22543.47, 4.2, 6, 776, 4, 6072, 3)\n",
      "(29, 'NEBRASKA', 'Nebraska', 'NE', 'Neb.', 15077.461000000001, 15816.061000000002, 0.5, 34, 455, 7, 3962, 10)\n",
      "(30, 'NEW HAMPSHIRE', 'New Hampshire', 'NH', 'N.H.', 286.741, 543.854, 0.2, 42, 225, 42, 3515, 21)\n",
      "(31, 'NEW JERSEY', 'New Jersey', 'NJ', 'N.J.', 648.154, 1213.927, 0.4, 35, 247, 38, 3124, 32)\n",
      "(32, 'NEW MEXICO', 'New Mexico', 'NM', 'N.M.', 7261.656999999999, 11913.479, 3.1, 8, 320, 21, 3089, 34)\n",
      "(33, 'NEVADA', 'Nevada', 'NV', 'Nev.', 1411.665, 3445.862, 0.1, 46, 231, 40, 2820, 46)\n",
      "(34, 'NEW YORK', 'New York', 'NY', 'N.Y.', 285.05400000000003, 2463.792, 1, 22, 185, 50, 2524, 51)\n",
      "(35, 'OHIO', 'Ohio', 'OH', 'Ohio', 25177.697, 38847.54, 2.9, 11, 317, 22, 3255, 30)\n",
      "(36, 'OKLAHOMA', 'Oklahoma', 'OK', 'Okla.', 9802.752, 19256.797, 4.8, 4, 417, 11, 3759, 16)\n",
      "(37, 'OREGON', 'Oregon', 'OR', 'Ore.', 895.2080000000001, 1853.491, 0.5, 33, 239, 39, 2885, 43)\n",
      "(38, 'PENNSYLVANIA', 'Pennsylvania', 'PA', 'Pa.', 23594.825, 39023.617, 9.4, 2, 294, 26, 3108, 33)\n",
      "(39, 'RHODE ISLAND', 'Rhode Island', 'RI', 'R.I.', 0, 0, 0, 49, 176, 51, 2866, 45)\n",
      "(40, 'SOUTH CAROLINA', 'South Carolina', 'SC', 'S.C.', 8305.206, 12076.83, 0.8, 25, 333, 18, 3569, 19)\n",
      "(41, 'SOUTH DAKOTA', 'South Dakota', 'SD', 'S.D.', 1519.116, 1780.371, 0.3, 39, 445, 8, 4098, 5)\n",
      "(42, 'TENNESSEE', 'Tennessee', 'TN', 'Tenn.', 11198.51, 19576.131, 0.6, 31, 333, 19, 3374, 24)\n",
      "(43, 'TEXAS', 'Texas', 'TX', 'Texas', 75688.982, 101657.50300000001, 20.3, 1, 472, 6, 4004, 7)\n",
      "(44, 'UTAH', 'Utah', 'UT', 'Utah', 12331.68, 15314.291000000001, 1.1, 18, 266, 35, 2773, 47)\n",
      "(45, 'VIRGINIA', 'Virginia', 'VA', 'Va.', 5110.883, 10396.76, 1.1, 20, 277, 31, 3024, 36)\n",
      "(46, 'VERMONT', 'Vermont', 'VT', 'Vt.', 0, 0, 0, 47, 206, 45, 3830, 13)\n",
      "(47, 'WASHINGTON', 'Washington', 'WA', 'Wash.', 3701.8990000000003, 4593.124, 1.2, 17, 283, 30, 2922, 40)\n",
      "(48, 'WISCONSIN', 'Wisconsin', 'WI', 'Wis.', 20154.818, 22255.395, 0.4, 37, 309, 24, 3313, 26)\n",
      "(49, 'WEST VIRGINIA', 'West Virginia', 'WV', 'W.Va.', 25710.645, 32355.904, 4.5, 5, 419, 10, 3910, 12)\n",
      "(50, 'WYOMING', 'Wyoming', 'WY', 'Wyo.', 25176.927000000003, 27476.01, 8.9, 3, 860, 2, 6813, 1)\n"
     ]
    }
   ],
   "source": [
    "# Query All Records in the the Database\n",
    "data = engine.execute(\"SELECT * FROM US_production_consumption\")\n",
    "for record in data:\n",
    "    print(record)"
   ]
  },
  {
   "cell_type": "code",
   "execution_count": 44,
   "metadata": {},
   "outputs": [
    {
     "ename": "AttributeError",
     "evalue": "'function' object has no attribute 'State_lower'",
     "output_type": "error",
     "traceback": [
      "\u001b[1;31m---------------------------------------------------------------------------\u001b[0m",
      "\u001b[1;31mAttributeError\u001b[0m                            Traceback (most recent call last)",
      "\u001b[1;32m<ipython-input-44-0a5c087b3860>\u001b[0m in \u001b[0;36m<module>\u001b[1;34m()\u001b[0m\n\u001b[0;32m     32\u001b[0m     \u001b[1;31m#return jsonify(us_production_consumption)\u001b[0m\u001b[1;33m\u001b[0m\u001b[1;33m\u001b[0m\u001b[0m\n\u001b[0;32m     33\u001b[0m \u001b[1;33m\u001b[0m\u001b[0m\n\u001b[1;32m---> 34\u001b[1;33m \u001b[0mUSProductionConsumption\u001b[0m\u001b[1;33m(\u001b[0m\u001b[1;33m)\u001b[0m\u001b[1;33m\u001b[0m\u001b[0m\n\u001b[0m",
      "\u001b[1;32m<ipython-input-44-0a5c087b3860>\u001b[0m in \u001b[0;36mUSProductionConsumption\u001b[1;34m()\u001b[0m\n\u001b[0;32m      2\u001b[0m     \u001b[1;31m# Query all states\u001b[0m\u001b[1;33m\u001b[0m\u001b[1;33m\u001b[0m\u001b[0m\n\u001b[0;32m      3\u001b[0m \u001b[1;33m\u001b[0m\u001b[0m\n\u001b[1;32m----> 4\u001b[1;33m     results = session.query(USProductionConsumption.State_lower,\n\u001b[0m\u001b[0;32m      5\u001b[0m             \u001b[0mUSProductionConsumption\u001b[0m\u001b[1;33m.\u001b[0m\u001b[0mCoal_Consumption_2018_all_sectors_thousand_tons\u001b[0m\u001b[1;33m,\u001b[0m\u001b[1;33m\u001b[0m\u001b[0m\n\u001b[0;32m      6\u001b[0m             \u001b[0mUSProductionConsumption\u001b[0m\u001b[1;33m.\u001b[0m\u001b[0mCoal_Consumption_2014_all_sectors_thousand_tons\u001b[0m\u001b[1;33m,\u001b[0m\u001b[1;33m\u001b[0m\u001b[0m\n",
      "\u001b[1;31mAttributeError\u001b[0m: 'function' object has no attribute 'State_lower'"
     ]
    }
   ],
   "source": [
    "def USProductionConsumption():\n",
    "    # Query all states\n",
    "    \n",
    "    results = session.query(USProductionConsumption.State_lower,\n",
    "            USProductionConsumption.Coal_Consumption_2018_all_sectors_thousand_tons, \n",
    "            USProductionConsumption.Coal_Consumption_2014_all_sectors_thousand_tons, \n",
    "            USProductionConsumption.Production_US_Share, \n",
    "            USProductionConsumption.Production_Rank, \n",
    "            USProductionConsumption.Consumption_per_Capita_Million_Btu,\n",
    "            USProductionConsumption.Consumption_per_Capita_Rank,\n",
    "            USProductionConsumption.Expenditures_per_Capita_Dollars,\n",
    "            USProductionConsumption.Expenditures_per_Capita_Rank).all()\n",
    "    print(results)\n",
    "\n",
    "    # Create a dictionary from the row data and append to a list of all_passengers\n",
    "       \n",
    "    us_production_consumption = []\n",
    "    \n",
    "    for State_lower, Coal_Consumption_2018_all_sectors_thousand_tons, Coal_Consumption_2014_all_sectors_thousand_tons, Production_US_Share, Production_Rank, Consumption_per_Capita_Million_Btu, Consumption_per_Capita_Rank, Expenditures_per_Capita_Dollars, Expenditures_per_Capita_Rank in results:\n",
    "        us_production_consumption_dict = {}\n",
    "        us_production_consumption_dict[\"State_lower\"] = State_lower\n",
    "        us_production_consumption_dict[\"Coal_Consumption_2018_all_sectors_thousand_tons\"] = Coal_Consumption_2018_all_sectors_thousand_tons\n",
    "        us_production_consumption_dict[\"Coal_Consumption_2014_all_sectors_thousand_tons\"] = Coal_Consumption_2014_all_sectors_thousand_tons\n",
    "        us_production_consumption_dict[\"Production_US_Share\"] = Production_US_Share\n",
    "        us_production_consumption_dict[\"Production_Rank\"] = Production_Rank\n",
    "        us_production_consumption_dict[\"Consumption_per_Capita_Million_Btu\"] = Consumption_per_Capita_Million_Btu\n",
    "        us_production_consumption_dict[\"Consumption_per_Capita_Rank\"] = Consumption_per_Capita_Rank\n",
    "        us_production_consumption_dict[\"Expenditures_per_Capita_Dollars\"] = Expenditures_per_Capita_Dollars\n",
    "        us_production_consumption_dict[\"Expenditures_per_Capita_Rank\"] = Expenditures_per_Capita_Rank\n",
    "        us_production_consumption.append(us_production_consumption_dict)\n",
    "    print(us_production_consumption)\n",
    "    #return jsonify(us_production_consumption)\n",
    "\n",
    "USProductionConsumption()"
   ]
  },
  {
   "cell_type": "code",
   "execution_count": null,
   "metadata": {},
   "outputs": [],
   "source": []
  },
  {
   "cell_type": "markdown",
   "metadata": {},
   "source": [
    "### Use this path to interact with the database created by Pandas"
   ]
  },
  {
   "cell_type": "code",
   "execution_count": 134,
   "metadata": {},
   "outputs": [
    {
     "name": "stdout",
     "output_type": "stream",
     "text": [
      "(0, 'Illinois', 891.6, 796.2, 1176.2, 1007.5)\n",
      "(1, 'Kentucky', 332.0, 257.0, 598.5, 470.7)\n",
      "(2, 'Texas', 1640.6, 1600.5, 6754.4, 3370.3)\n"
     ]
    }
   ],
   "source": [
    "# Query All Records in the the Database\n",
    "data = engine.execute(\"SELECT * FROM energyconsumpsector\")\n",
    "for record in data:\n",
    "    print(record)"
   ]
  },
  {
   "cell_type": "code",
   "execution_count": 135,
   "metadata": {},
   "outputs": [
    {
     "name": "stdout",
     "output_type": "stream",
     "text": [
      "(0, 'Illinois', 4, 985, 4543, 7641, 0, 1255)\n",
      "(1, 'Kentucky', 8, 877, 4353, 0, 316, 39)\n",
      "(2, 'Texas', 4, 15251, 7450, 3430, 150, 6962)\n"
     ]
    }
   ],
   "source": [
    "# Query All Records in the the Database\n",
    "data = engine.execute(\"SELECT * FROM electricitygeneration\")\n",
    "for record in data:\n",
    "    print(record)"
   ]
  },
  {
   "cell_type": "code",
   "execution_count": null,
   "metadata": {},
   "outputs": [],
   "source": []
  },
  {
   "cell_type": "code",
   "execution_count": 169,
   "metadata": {},
   "outputs": [
    {
     "name": "stdout",
     "output_type": "stream",
     "text": [
      "{\"EnergyConsumptionSector\": [{\"index\": 0, \"State\": \"Illinois\", \"Residential\": 891.6, \"Commercial\": 796.2, \"Industrial\": 1176.2, \"Transportation\": 1007.5}, {\"index\": 1, \"State\": \"Kentucky\", \"Residential\": 332.0, \"Commercial\": 257.0, \"Industrial\": 598.5, \"Transportation\": 470.7}, {\"index\": 2, \"State\": \"Texas\", \"Residential\": 1640.6, \"Commercial\": 1600.5, \"Industrial\": 6754.4, \"Transportation\": 3370.3}]}\n",
      "[{'index': 0, 'State': 'Illinois', 'Residential': 891.6, 'Commercial': 796.2, 'Industrial': 1176.2, 'Transportation': 1007.5}, {'index': 1, 'State': 'Kentucky', 'Residential': 332.0, 'Commercial': 257.0, 'Industrial': 598.5, 'Transportation': 470.7}, {'index': 2, 'State': 'Texas', 'Residential': 1640.6, 'Commercial': 1600.5, 'Industrial': 6754.4, 'Transportation': 3370.3}]\n"
     ]
    }
   ],
   "source": [
    "import sqlite3\n",
    "import json\n",
    "con = sqlite3.connect('./static/db/energyData.sqlite')\n",
    "#con.row_factory = sqlite3.Row\n",
    "c = con.cursor()\n",
    "result = c.execute('select * from energyconsumpsector')\n",
    "items = [dict(zip([key[0] for key in c.description],row))for row in result]\n",
    "print(json.dumps({'EnergyConsumptionSector':items}))\n",
    "\n",
    "# items = []\n",
    "# for row in result:\n",
    "#         for key in c.description:\n",
    "#             items.append({key[0]: value for value in row})\n",
    "# print(json.dumps({'items':items}))\n",
    "\n",
    "# for row in c.execute('select * from energyconsumpsector'):\n",
    "#     print(row.keys())\n",
    "#     print(tuple(row))\n",
    "#     data = c.fetchall()\n",
    "# print(json.dumps(data))\n",
    "\n",
    "con.close()"
   ]
  },
  {
   "cell_type": "code",
   "execution_count": 153,
   "metadata": {},
   "outputs": [
    {
     "name": "stdout",
     "output_type": "stream",
     "text": [
      "<sqlalchemy.engine.result.ResultProxy object at 0x0000014FFF6AC4A8>\n"
     ]
    }
   ],
   "source": [
    "import json\n",
    "import sqlite3\n",
    "\n",
    "def get_my_jsonified_data(key):\n",
    "    with sqlite3.connect('./static/db/energyData.sqlite') as conn:\n",
    "        cursor = conn.cursor()\n",
    "        cursor.execute(\"select * from energyconsumpsector\")\n",
    "        data = cursor.fetchall()\n",
    "        return json.dumps(data)\n",
    "\n",
    "print(data)\n",
    "#https://stackoverflow.com/questions/25564399/send-json-response-from-sqlite-queries-in-python"
   ]
  },
  {
   "cell_type": "code",
   "execution_count": null,
   "metadata": {},
   "outputs": [],
   "source": []
  }
 ],
 "metadata": {
  "kernelspec": {
   "display_name": "Python 3",
   "language": "python",
   "name": "python3"
  },
  "language_info": {
   "codemirror_mode": {
    "name": "ipython",
    "version": 3
   },
   "file_extension": ".py",
   "mimetype": "text/x-python",
   "name": "python",
   "nbconvert_exporter": "python",
   "pygments_lexer": "ipython3",
   "version": "3.7.0"
  }
 },
 "nbformat": 4,
 "nbformat_minor": 2
}
