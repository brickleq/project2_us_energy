{
 "cells": [
  {
   "cell_type": "markdown",
   "metadata": {},
   "source": [
    "## Use this file to test the energyData.sqlite database"
   ]
  },
  {
   "cell_type": "code",
   "execution_count": 1,
   "metadata": {},
   "outputs": [],
   "source": [
    "# import necessary libraries\n",
    "import numpy as np\n",
    "import sqlalchemy\n",
    "from sqlalchemy.ext.automap import automap_base\n",
    "from sqlalchemy.orm import Session\n",
    "from sqlalchemy import create_engine, func\n",
    "from flask import (\n",
    "    Flask,\n",
    "    render_template,\n",
    "    jsonify,\n",
    "    request,\n",
    "    redirect)\n",
    "from flask_sqlalchemy import SQLAlchemy\n",
    "from sqlalchemy import create_engine, inspect\n",
    "\n",
    "from sqlalchemy import create_engine\n",
    "from sqlalchemy.orm import sessionmaker\n",
    "from sqlalchemy import *"
   ]
  },
  {
   "cell_type": "markdown",
   "metadata": {},
   "source": [
    "### Create a connection with the database file"
   ]
  },
  {
   "cell_type": "code",
   "execution_count": 2,
   "metadata": {},
   "outputs": [],
   "source": [
    "engine = create_engine(\"sqlite:///../static/db/energyData.sqlite\")"
   ]
  },
  {
   "cell_type": "markdown",
   "metadata": {},
   "source": [
    "### Use this path to interact with the database created using SQLAlchemy"
   ]
  },
  {
   "cell_type": "code",
   "execution_count": 3,
   "metadata": {},
   "outputs": [],
   "source": [
    "# reflect an existing database into a new model\n",
    "Base = automap_base()"
   ]
  },
  {
   "cell_type": "code",
   "execution_count": 4,
   "metadata": {},
   "outputs": [],
   "source": [
    "# reflect the tables\n",
    "Base.prepare(engine, reflect=True)"
   ]
  },
  {
   "cell_type": "code",
   "execution_count": 5,
   "metadata": {},
   "outputs": [
    {
     "name": "stdout",
     "output_type": "stream",
     "text": [
      "['US_production_consumption', 'electricity_generation_source', 'energy_consumption_estimates', 'energy_consumption_sector', 'energy_production', 'plant_data', 'price_differences']\n"
     ]
    }
   ],
   "source": [
    "# Print all of the classes mapped to the Base\n",
    "print(Base.classes.keys())"
   ]
  },
  {
   "cell_type": "code",
   "execution_count": 6,
   "metadata": {},
   "outputs": [],
   "source": [
    "# Create the inspector and connect it to the engine\n",
    "inspector = inspect(engine)"
   ]
  },
  {
   "cell_type": "code",
   "execution_count": 7,
   "metadata": {},
   "outputs": [
    {
     "data": {
      "text/plain": [
       "['US_production_consumption',\n",
       " 'electricity_generation_source',\n",
       " 'energy_consumption_estimates',\n",
       " 'energy_consumption_sector',\n",
       " 'energy_production',\n",
       " 'plant_data',\n",
       " 'price_differences',\n",
       " 'sqlite_sequence']"
      ]
     },
     "execution_count": 7,
     "metadata": {},
     "output_type": "execute_result"
    }
   ],
   "source": [
    "# Collect the names of tables within the database\n",
    "inspector.get_table_names()"
   ]
  },
  {
   "cell_type": "code",
   "execution_count": 8,
   "metadata": {},
   "outputs": [],
   "source": [
    "# Create a \"Metadata\" Layer That Abstracts our SQL Database\n",
    "Base.metadata.create_all(engine)\n",
    "\n",
    "# Use this to clear out the db\n",
    "# Base.metadata.drop_all(engine)"
   ]
  },
  {
   "cell_type": "code",
   "execution_count": 9,
   "metadata": {},
   "outputs": [],
   "source": [
    "# Save a reference to the StateEnergyConumptionSector table as `ConsumptionSector`\n",
    "ConsumptionSector = Base.classes.energy_consumption_sector\n",
    "ElectricityGeneration = Base.classes.electricity_generation_source\n",
    "EnergyConsumption = Base.classes.energy_consumption_estimates\n",
    "PlantData = Base.classes.plant_data\n",
    "EnergyProduction = Base.classes.energy_production\n",
    "PriceDifferences = Base.classes.price_differences\n",
    "UsProductionConsumption = Base.classes.US_production_consumption"
   ]
  },
  {
   "cell_type": "code",
   "execution_count": 10,
   "metadata": {},
   "outputs": [],
   "source": [
    "# Create a database session object\n",
    "session = Session(engine)\n",
    "\n",
    "#Create the session\n",
    "# session = sessionmaker()\n",
    "# session.configure(bind=engine)\n",
    "# s = session()"
   ]
  },
  {
   "cell_type": "code",
   "execution_count": 11,
   "metadata": {},
   "outputs": [],
   "source": [
    "#results = session.query(ConsumptionSector.State).all()\n",
    "#print(results)\n"
   ]
  },
  {
   "cell_type": "code",
   "execution_count": 76,
   "metadata": {},
   "outputs": [
    {
     "name": "stdout",
     "output_type": "stream",
     "text": [
      "[{'State': 'Illinois', 'Residential': 891.6, 'Commercial': 796.2, 'Industrial': 1176.2, 'Transportation': 1007.5}, {'State': 'Kentucky', 'Residential': 332, 'Commercial': 257, 'Industrial': 598.5, 'Transportation': 470.7}, {'State': 'Texas', 'Residential': 1640.6, 'Commercial': 1600.5, 'Industrial': 6754.4, 'Transportation': 3370.3}]\n"
     ]
    }
   ],
   "source": [
    "def consumptionSectors():\n",
    "    # Query all states\n",
    "    results = session.query(ConsumptionSector.State, \n",
    "            ConsumptionSector.Residential, \n",
    "            ConsumptionSector.Commercial, \n",
    "            ConsumptionSector.Industrial,\n",
    "            ConsumptionSector.Transportation).all()\n",
    "    #print(results)\n",
    "    # Create a dictionary from the row data and append to a list of all_passengers\n",
    "    consumption_sector = []\n",
    "    for State, Residential, Commercial, Industrial, Transportation in results:\n",
    "        consumption_sector_dict = {}\n",
    "        consumption_sector_dict[\"State\"] = State\n",
    "        consumption_sector_dict[\"Residential\"] = Residential\n",
    "        consumption_sector_dict[\"Commercial\"] = Commercial\n",
    "        consumption_sector_dict[\"Industrial\"] = Industrial\n",
    "        consumption_sector_dict[\"Transportation\"] = Transportation\n",
    "        consumption_sector.append(consumption_sector_dict)\n",
    "    #return jsonify(consumption_sector)\n",
    "    print(consumption_sector)\n",
    "\n",
    "consumptionSectors()"
   ]
  },
  {
   "cell_type": "code",
   "execution_count": 77,
   "metadata": {},
   "outputs": [
    {
     "name": "stdout",
     "output_type": "stream",
     "text": [
      "(1, 'Illinois', 4, 985, 4543, 7641, 0, 1255)\n",
      "(2, 'Kentucky', 8, 877, 4353, 0, 316, 39)\n",
      "(3, 'Texas', 4, 15251, 7450, 3430, 150, 6962)\n"
     ]
    }
   ],
   "source": [
    "# Query All Records in the the Database\n",
    "data = engine.execute(\"SELECT * FROM electricity_generation_source\")\n",
    "for record in data:\n",
    "    print(record)"
   ]
  },
  {
   "cell_type": "code",
   "execution_count": 78,
   "metadata": {},
   "outputs": [],
   "source": [
    "def electricityGeneration():\n",
    "    # Query all states\n",
    "    results = session.query(ElectricityGeneration.State, \n",
    "            ElectricityGeneration.Petroleum_Fired, \n",
    "            ElectricityGeneration.Natural_Gas_Fired, \n",
    "            ElectricityGeneration.Coal_Fired,\n",
    "            ElectricityGeneration.Nuclear,\n",
    "            ElectricityGeneration.Hydroelectric,\n",
    "            ElectricityGeneration.Nonhydroelectric_Renewables).all()\n",
    "    #print(results)\n",
    "    # Create a dictionary from the row data and append to a list of all_passengers\n",
    "    electricity_generation = []\n",
    "    for State, Petroleum_Fired, Natural_Gas_Fired, Coal_Fired, Nuclear, Hydroelectric, Nonhydroelectric_Renewables  in results:\n",
    "        electricity_generation_dict = {}\n",
    "        electricity_generation_dict[\"State\"] = State\n",
    "        electricity_generation_dict[\"Petroleum Fired\"] = Petroleum_Fired\n",
    "        electricity_generation_dict[\"Natural Gas Fired\"] = Natural_Gas_Fired\n",
    "        electricity_generation_dict[\"Coal Fired\"] = Coal_Fired\n",
    "        electricity_generation_dict[\"Nuclear\"] = Nuclear\n",
    "        electricity_generation_dict[\"Hydroelectric\"] = Hydroelectric\n",
    "        electricity_generation_dict[\"Nonhydroelectric_Renewables\"] = Nonhydroelectric_Renewables\n",
    "        electricity_generation.append(electricity_generation_dict)\n",
    "    return jsonify(electricity_generation)"
   ]
  },
  {
   "cell_type": "code",
   "execution_count": 79,
   "metadata": {},
   "outputs": [
    {
     "name": "stdout",
     "output_type": "stream",
     "text": [
      "(1, 'Illinois', 685, 1035, 540.2, 304.3, 159.7, 69.7, 1.3, 166.6, 1016.5, 1.2, 147.5, 117.3, 0, -372.8)\n",
      "(2, 'Kentucky', 639.4, 296.9, 249.4, 150.5, 72, 31.7, 0.2, 77.6, 0, 41.5, 52.6, 3.2, 0, 43.4)\n",
      "(3, 'Texas', 1452, 3994.2, 1596, 1045, 550.2, 1914.8, 194.3, 1212.8, 403.5, 9.8, 221.3, 645.5, -19.1, 145.6)\n"
     ]
    }
   ],
   "source": [
    "# Query All Records in the the Database\n",
    "data = engine.execute(\"SELECT * FROM energy_consumption_estimates\")\n",
    "for record in data:\n",
    "    print(record)"
   ]
  },
  {
   "cell_type": "code",
   "execution_count": 80,
   "metadata": {},
   "outputs": [
    {
     "name": "stdout",
     "output_type": "stream",
     "text": [
      "[{'State': 'Illinois', 'Coal': 685, 'Natural_Gas': 1035, 'Motor_Gasoline_excl_Ethanol': 540.2, 'Distillate_Fuel_Oil': 304.3, 'Jet_Fuel': 159.7, 'HGL': 69.7, 'Residual_Fuel': 1.3, 'Other_Petroleum': 166.6, 'Nuclear_Electric_Power': 1016.5, 'Hydroelectric_Power': 1.2, 'Biomass': 147.5, 'Other_Renewables': 117.3, 'Net_Electricity_Imports': 0, 'Net_Interstate_Flow_of_Electricity': -372.8}, {'State': 'Kentucky', 'Coal': 639.4, 'Natural_Gas': 296.9, 'Motor_Gasoline_excl_Ethanol': 249.4, 'Distillate_Fuel_Oil': 150.5, 'Jet_Fuel': 72, 'HGL': 31.7, 'Residual_Fuel': 0.2, 'Other_Petroleum': 77.6, 'Nuclear_Electric_Power': 0, 'Hydroelectric_Power': 41.5, 'Biomass': 52.6, 'Other_Renewables': 3.2, 'Net_Electricity_Imports': 0, 'Net_Interstate_Flow_of_Electricity': 43.4}, {'State': 'Texas', 'Coal': 1452, 'Natural_Gas': 3994.2, 'Motor_Gasoline_excl_Ethanol': 1596, 'Distillate_Fuel_Oil': 1045, 'Jet_Fuel': 550.2, 'HGL': 1914.8, 'Residual_Fuel': 194.3, 'Other_Petroleum': 1212.8, 'Nuclear_Electric_Power': 403.5, 'Hydroelectric_Power': 9.8, 'Biomass': 221.3, 'Other_Renewables': 645.5, 'Net_Electricity_Imports': -19.1, 'Net_Interstate_Flow_of_Electricity': 145.6}]\n"
     ]
    }
   ],
   "source": [
    "def energyConsumption():\n",
    "    # Query all states\n",
    "    results = session.query(EnergyConsumption.State, \n",
    "            EnergyConsumption.Coal, \n",
    "            EnergyConsumption.Natural_Gas, \n",
    "            EnergyConsumption.Motor_Gasoline_excl_Ethanol,\n",
    "            EnergyConsumption.Distillate_Fuel_Oil,\n",
    "            EnergyConsumption.Jet_Fuel,\n",
    "            EnergyConsumption.HGL,\n",
    "            EnergyConsumption.Residual_Fuel,\n",
    "            EnergyConsumption.Other_Petroleum,\n",
    "            EnergyConsumption.Nuclear_Electric_Power,\n",
    "            EnergyConsumption.Hydroelectric_Power,\n",
    "            EnergyConsumption.Biomass,\n",
    "            EnergyConsumption.Other_Renewables,\n",
    "            EnergyConsumption.Net_Electricity_Imports,\n",
    "            EnergyConsumption.Net_Interstate_Flow_of_Electricity).all()\n",
    "    #print(results)\n",
    "    # Create a dictionary from the row data and append to a list of all_passengers\n",
    "    energy_consumption = []\n",
    "    \n",
    "    for State, Coal, Natural_Gas, Motor_Gasoline_excl_Ethanol, Distillate_Fuel_Oil, Jet_Fuel, HGL, Residual_Fuel, Other_Petroleum, Nuclear_Electric_Power, Hydroelectric_Power, Biomass, Other_Renewables, Net_Electricity_Imports, Net_Interstate_Flow_of_Electricity in results:\n",
    "        energy_consumption_dict = {}\n",
    "        energy_consumption_dict[\"State\"] = State\n",
    "        energy_consumption_dict[\"Coal\"] = Coal\n",
    "        energy_consumption_dict[\"Natural_Gas\"] = Natural_Gas\n",
    "        energy_consumption_dict[\"Motor_Gasoline_excl_Ethanol\"] = Motor_Gasoline_excl_Ethanol\n",
    "        energy_consumption_dict[\"Distillate_Fuel_Oil\"] = Distillate_Fuel_Oil\n",
    "        energy_consumption_dict[\"Jet_Fuel\"] = Jet_Fuel\n",
    "        energy_consumption_dict[\"HGL\"] = HGL\n",
    "        energy_consumption_dict[\"Residual_Fuel\"] = Residual_Fuel\n",
    "        energy_consumption_dict[\"Other_Petroleum\"] = Other_Petroleum\n",
    "        energy_consumption_dict[\"Nuclear_Electric_Power\"] = Nuclear_Electric_Power\n",
    "        energy_consumption_dict[\"Hydroelectric_Power\"] = Hydroelectric_Power\n",
    "        energy_consumption_dict[\"Biomass\"] = Biomass\n",
    "        energy_consumption_dict[\"Other_Renewables\"] = Other_Renewables\n",
    "        energy_consumption_dict[\"Net_Electricity_Imports\"] = Net_Electricity_Imports\n",
    "        energy_consumption_dict[\"Net_Interstate_Flow_of_Electricity\"] = Net_Interstate_Flow_of_Electricity\n",
    "        energy_consumption.append(energy_consumption_dict)\n",
    "    print(energy_consumption)\n",
    "    #return jsonify(energy_consumption)\n",
    "\n",
    "energyConsumption()"
   ]
  },
  {
   "cell_type": "code",
   "execution_count": 81,
   "metadata": {},
   "outputs": [
    {
     "name": "stdout",
     "output_type": "stream",
     "text": [
      "{'Utility_ID': 794, 'Utility_Name': 'Apollo Energy Corp', 'Plant_Name': 'Kamaoa Wind Farm', 'Street_Address': '93-1373 South Point Road', 'City': \"Ka'u\", 'State': 'HI', 'Zip': 96772, 'County': 'Hawaii', 'Latitude': 18.992222, 'Longitude': -155.668056, 'Name_of_Water_Source': None, 'Primary_Purpose_NAICS_Code': 22, 'Sector_Name': 'IPP Non-CHP', 'Grid_Voltage_kV': 0}\n"
     ]
    }
   ],
   "source": [
    "def plantData():\n",
    "    # Query all states\n",
    "    results = session.query(PlantData.Utility_ID, \n",
    "            PlantData.Utility_Name, \n",
    "            PlantData.Plant_Code, \n",
    "            PlantData.Plant_Name, \n",
    "            PlantData.Street_Address, \n",
    "            PlantData.City, \n",
    "            PlantData.State, \n",
    "            PlantData.Zip, \n",
    "            PlantData.County, \n",
    "            PlantData.Latitude, \n",
    "            PlantData.Longitude, \n",
    "            PlantData.Name_of_Water_Source, \n",
    "            PlantData.Primary_Purpose_NAICS_Code, \n",
    "            PlantData.Sector_Name,\n",
    "            PlantData.Grid_Voltage_kV).all()\n",
    "    #print(results)\n",
    "  \n",
    "    # Create a dictionary from the row data and append to a list of all_passengers\n",
    "       \n",
    "    plant_data = []\n",
    "   \n",
    "    for Utility_ID, Utility_Name, Plant_Code, Plant_Name, Street_Address, City, State, Zip, County, Latitude, Longitude, Name_of_Water_Source, Primary_Purpose_NAICS_Code, Sector_Name, Grid_Voltage_kV in results:\n",
    "        plant_data_dict = {}\n",
    "        plant_data_dict[\"Utility_ID\"] = Utility_ID\n",
    "        plant_data_dict[\"Utility_Name\"] = Utility_Name\n",
    "        plant_data_dict[\"Plant_Name\"] = Plant_Name\n",
    "        plant_data_dict[\"Street_Address\"] = Street_Address\n",
    "        plant_data_dict[\"City\"] = City\n",
    "        plant_data_dict[\"State\"] = State\n",
    "        plant_data_dict[\"Zip\"] = Zip\n",
    "        plant_data_dict[\"County\"] = County\n",
    "        plant_data_dict[\"Latitude\"] = Latitude\n",
    "        plant_data_dict[\"Longitude\"] = Longitude\n",
    "        plant_data_dict[\"Name_of_Water_Source\"] = Name_of_Water_Source\n",
    "        plant_data_dict[\"Primary_Purpose_NAICS_Code\"] = Primary_Purpose_NAICS_Code\n",
    "        plant_data_dict[\"Sector_Name\"] = Sector_Name\n",
    "        plant_data_dict[\"Grid_Voltage_kV\"] = Grid_Voltage_kV\n",
    "        plant_data.append(plant_data_dict)\n",
    "    print(plant_data[1])\n",
    "    #return jsonify(plant_data)\n",
    "\n",
    "plantData()"
   ]
  },
  {
   "cell_type": "code",
   "execution_count": 82,
   "metadata": {},
   "outputs": [
    {
     "name": "stdout",
     "output_type": "stream",
     "text": [
      "[{'State': 'Illinois', 'Coal': 977.1, 'Natural_Gas_Marketed': 2.3, 'Crude_Oil': 49.4, 'Nuclear_Electric_Power': 1031.3, 'Biofuels': 218, 'Other_Renewable_Energy': 128}, {'State': 'Kentucky', 'Coal': 1041.1, 'Natural_Gas_Marketed': 102.7, 'Crude_Oil': 14.8, 'Nuclear_Electric_Power': 0, 'Biofuels': 4.9, 'Other_Renewable_Energy': 70.3}, {'State': 'Texas', 'Coal': 515.7, 'Natural_Gas_Marketed': 8695.5, 'Crude_Oil': 6729.3, 'Nuclear_Electric_Power': 440.1, 'Biofuels': 53.4, 'Other_Renewable_Energy': 645.7}]\n"
     ]
    }
   ],
   "source": [
    "def energyProduction():\n",
    "    # Query all states\n",
    "    results = session.query(EnergyProduction.State, \n",
    "            EnergyProduction.Coal, \n",
    "            EnergyProduction.Natural_Gas_Marketed, \n",
    "            EnergyProduction.Crude_Oil, \n",
    "            EnergyProduction.Nuclear_Electric_Power, \n",
    "            EnergyProduction.Biofuels, \n",
    "            EnergyProduction.Other_Renewable_Energy).all()\n",
    "    #print(results)\n",
    "\n",
    "    # Create a dictionary from the row data and append to a list of all_passengers\n",
    "       \n",
    "    energy_production = []\n",
    "   \n",
    "    for State, Coal, Natural_Gas_Marketed, Crude_Oil, Nuclear_Electric_Power, Biofuels, Other_Renewable_Energy in results:\n",
    "        energy_production_dict = {}\n",
    "        energy_production_dict[\"State\"] = State\n",
    "        energy_production_dict[\"Coal\"] = Coal\n",
    "        energy_production_dict[\"Natural_Gas_Marketed\"] = Natural_Gas_Marketed\n",
    "        energy_production_dict[\"Crude_Oil\"] = Crude_Oil\n",
    "        energy_production_dict[\"Nuclear_Electric_Power\"] = Nuclear_Electric_Power\n",
    "        energy_production_dict[\"Biofuels\"] = Biofuels\n",
    "        energy_production_dict[\"Other_Renewable_Energy\"] = Other_Renewable_Energy\n",
    "        energy_production.append(energy_production_dict)\n",
    "    print(energy_production)\n",
    "    #return jsonify(energy_production)\n",
    "\n",
    "energyProduction()"
   ]
  },
  {
   "cell_type": "code",
   "execution_count": 83,
   "metadata": {},
   "outputs": [
    {
     "name": "stdout",
     "output_type": "stream",
     "text": [
      "[{'State': 'Illinios', 'Natural_Gas_Citygate': -16.71, 'Natural_Gas_Residential': -24.24, 'Electricity_Residential': -1.97, 'Electricity_Commercial': -13.78, 'Electricity_Industrial': 0.45}, {'State': 'Kentucky', 'Natural_Gas_Citygate': 0, 'Natural_Gas_Residential': -3.27, 'Electricity_Residential': -18.74, 'Electricity_Commercial': -3.99, 'Electricity_Industrial': -17.22}, {'State': 'Texas', 'Natural_Gas_Citygate': 10.8, 'Natural_Gas_Residential': -12.86, 'Electricity_Residential': -8.03, 'Electricity_Commercial': -21.48, 'Electricity_Industrial': -22.16}]\n"
     ]
    }
   ],
   "source": [
    "def priceDifferences():\n",
    "    # Query all states\n",
    "    results = session.query(PriceDifferences.State, \n",
    "            PriceDifferences.Natural_Gas_Citygate, \n",
    "            PriceDifferences.Natural_Gas_Residential, \n",
    "            PriceDifferences.Electricity_Residential, \n",
    "            PriceDifferences.Electricity_Commercial, \n",
    "            PriceDifferences.Electricity_Industrial).all()\n",
    "    #print(results)\n",
    "\n",
    "    # Create a dictionary from the row data and append to a list of all_passengers\n",
    "       \n",
    "    price_differences = []\n",
    "   \n",
    "    for State, Natural_Gas_Citygate, Natural_Gas_Residential, Electricity_Residential, Electricity_Commercial, Electricity_Industrial in results:\n",
    "        price_differences_dict = {}\n",
    "        price_differences_dict[\"State\"] = State\n",
    "        price_differences_dict[\"Natural_Gas_Citygate\"] = Natural_Gas_Citygate\n",
    "        price_differences_dict[\"Natural_Gas_Residential\"] = Natural_Gas_Residential\n",
    "        price_differences_dict[\"Electricity_Residential\"] = Electricity_Residential\n",
    "        price_differences_dict[\"Electricity_Commercial\"] = Electricity_Commercial\n",
    "        price_differences_dict[\"Electricity_Industrial\"] = Electricity_Industrial\n",
    "        price_differences.append(price_differences_dict)\n",
    "    print(price_differences)\n",
    "    #return jsonify(price_differences)\n",
    "\n",
    "priceDifferences()"
   ]
  },
  {
   "cell_type": "code",
   "execution_count": 16,
   "metadata": {},
   "outputs": [
    {
     "name": "stdout",
     "output_type": "stream",
     "text": [
      "[{'State_lower_name': 'Alaska', 'Coal_Consumption_2018_all_sectors_thousand_tons': 941.94, 'Coal_Consumption_2014_all_sectors_thousand_tons': 885.559, 'Production_US_Share': 1.7, 'Production_Rank': 13, 'Consumption_per_Capita_Million_Btu': 809, 'Consumption_per_Capita_Rank': 3, 'Expenditures_per_Capita_Dollars': 6241, 'Expenditures_per_Capita_Rank': 2}, {'State_lower_name': 'Alabama', 'Coal_Consumption_2018_all_sectors_thousand_tons': 16336.245, 'Coal_Consumption_2014_all_sectors_thousand_tons': 24169.776, 'Production_US_Share': 1.3, 'Production_Rank': 16, 'Consumption_per_Capita_Million_Btu': 398, 'Consumption_per_Capita_Rank': 12, 'Expenditures_per_Capita_Dollars': 3969, 'Expenditures_per_Capita_Rank': 8}, {'State_lower_name': 'Arkansas', 'Coal_Consumption_2018_all_sectors_thousand_tons': 17523.535, 'Coal_Consumption_2014_all_sectors_thousand_tons': 19368.424, 'Production_US_Share': 1.3, 'Production_Rank': 15, 'Consumption_per_Capita_Million_Btu': 354, 'Consumption_per_Capita_Rank': 17, 'Expenditures_per_Capita_Dollars': 3448, 'Expenditures_per_Capita_Rank': 22}, {'State_lower_name': 'Arizona', 'Coal_Consumption_2018_all_sectors_thousand_tons': 16813.552, 'Coal_Consumption_2014_all_sectors_thousand_tons': 22911.006, 'Production_US_Share': 0.7, 'Production_Rank': 29, 'Consumption_per_Capita_Million_Btu': 213, 'Consumption_per_Capita_Rank': 43, 'Expenditures_per_Capita_Dollars': 2758, 'Expenditures_per_Capita_Rank': 48}, {'State_lower_name': 'California', 'Coal_Consumption_2018_all_sectors_thousand_tons': 635.12, 'Coal_Consumption_2014_all_sectors_thousand_tons': 878.434, 'Production_US_Share': 2.9, 'Production_Rank': 10, 'Consumption_per_Capita_Million_Btu': 199, 'Consumption_per_Capita_Rank': 48, 'Expenditures_per_Capita_Dollars': 2872, 'Expenditures_per_Capita_Rank': 44}, {'State_lower_name': 'Colorado', 'Coal_Consumption_2018_all_sectors_thousand_tons': 15354.101, 'Coal_Consumption_2014_all_sectors_thousand_tons': 17944.255, 'Production_US_Share': 3.7, 'Production_Rank': 7, 'Consumption_per_Capita_Million_Btu': 268, 'Consumption_per_Capita_Rank': 34, 'Expenditures_per_Capita_Dollars': 2681, 'Expenditures_per_Capita_Rank': 49}, {'State_lower_name': 'Connecticut', 'Coal_Consumption_2018_all_sectors_thousand_tons': 220.578, 'Coal_Consumption_2014_all_sectors_thousand_tons': 499.319, 'Production_US_Share': 0.2, 'Production_Rank': 40, 'Consumption_per_Capita_Million_Btu': 202, 'Consumption_per_Capita_Rank': 47, 'Expenditures_per_Capita_Dollars': 3282, 'Expenditures_per_Capita_Rank': 27}, {'State_lower_name': 'Delaware', 'Coal_Consumption_2018_all_sectors_thousand_tons': 166.59599999999998, 'Coal_Consumption_2014_all_sectors_thousand_tons': 397.11300000000006, 'Production_US_Share': 0, 'Production_Rank': 50, 'Consumption_per_Capita_Million_Btu': 287, 'Consumption_per_Capita_Rank': 29, 'Expenditures_per_Capita_Dollars': 3281, 'Expenditures_per_Capita_Rank': 28}, {'State_lower_name': 'Florida', 'Coal_Consumption_2018_all_sectors_thousand_tons': 13495.08899, 'Coal_Consumption_2014_all_sectors_thousand_tons': 23309.82487, 'Production_US_Share': 0.7, 'Production_Rank': 30, 'Consumption_per_Capita_Million_Btu': 205, 'Consumption_per_Capita_Rank': 46, 'Expenditures_per_Capita_Dollars': 2525, 'Expenditures_per_Capita_Rank': 50}, {'State_lower_name': 'Georgia', 'Coal_Consumption_2018_all_sectors_thousand_tons': 17216.528000000002, 'Coal_Consumption_2014_all_sectors_thousand_tons': 23254.481, 'Production_US_Share': 0.8, 'Production_Rank': 28, 'Consumption_per_Capita_Million_Btu': 275, 'Consumption_per_Capita_Rank': 33, 'Expenditures_per_Capita_Dollars': 3022, 'Expenditures_per_Capita_Rank': 37}, {'State_lower_name': 'Hawaii', 'Coal_Consumption_2018_all_sectors_thousand_tons': 734.3510000000001, 'Coal_Consumption_2014_all_sectors_thousand_tons': 830.572, 'Production_US_Share': 0, 'Production_Rank': 48, 'Consumption_per_Capita_Million_Btu': 198, 'Consumption_per_Capita_Rank': 49, 'Expenditures_per_Capita_Dollars': 3526, 'Expenditures_per_Capita_Rank': 20}, {'State_lower_name': 'Iowa', 'Coal_Consumption_2018_all_sectors_thousand_tons': 18645.376, 'Coal_Consumption_2014_all_sectors_thousand_tons': 22690.389, 'Production_US_Share': 1, 'Production_Rank': 23, 'Consumption_per_Capita_Million_Btu': 489, 'Consumption_per_Capita_Rank': 5, 'Expenditures_per_Capita_Dollars': 4052, 'Expenditures_per_Capita_Rank': 6}, {'State_lower_name': 'Idaho', 'Coal_Consumption_2018_all_sectors_thousand_tons': 57.168, 'Coal_Consumption_2014_all_sectors_thousand_tons': 214.062, 'Production_US_Share': 0.2, 'Production_Rank': 43, 'Consumption_per_Capita_Million_Btu': 315, 'Consumption_per_Capita_Rank': 23, 'Expenditures_per_Capita_Dollars': 3374, 'Expenditures_per_Capita_Rank': 23}, {'State_lower_name': 'Illinois', 'Coal_Consumption_2018_all_sectors_thousand_tons': 38203.295, 'Coal_Consumption_2014_all_sectors_thousand_tons': 54532.329000000005, 'Production_US_Share': 2.9, 'Production_Rank': 12, 'Consumption_per_Capita_Million_Btu': 304, 'Consumption_per_Capita_Rank': 25, 'Expenditures_per_Capita_Dollars': 2924, 'Expenditures_per_Capita_Rank': 39}, {'State_lower_name': 'Indiana', 'Coal_Consumption_2018_all_sectors_thousand_tons': 39214.156, 'Coal_Consumption_2014_all_sectors_thousand_tons': 48721.53362, 'Production_US_Share': 1.1, 'Production_Rank': 19, 'Consumption_per_Capita_Million_Btu': 422, 'Consumption_per_Capita_Rank': 9, 'Expenditures_per_Capita_Dollars': 3787, 'Expenditures_per_Capita_Rank': 15}, {'State_lower_name': 'Kansas', 'Coal_Consumption_2018_all_sectors_thousand_tons': 13136.167, 'Coal_Consumption_2014_all_sectors_thousand_tons': 18198.644, 'Production_US_Share': 0.9, 'Production_Rank': 24, 'Consumption_per_Capita_Million_Btu': 376, 'Consumption_per_Capita_Rank': 16, 'Expenditures_per_Capita_Dollars': 3621, 'Expenditures_per_Capita_Rank': 18}, {'State_lower_name': 'Kentucky', 'Coal_Consumption_2018_all_sectors_thousand_tons': 28566.789, 'Coal_Consumption_2014_all_sectors_thousand_tons': 39213.757000000005, 'Production_US_Share': 1.5, 'Production_Rank': 14, 'Consumption_per_Capita_Million_Btu': 384, 'Consumption_per_Capita_Rank': 14, 'Expenditures_per_Capita_Dollars': 3650, 'Expenditures_per_Capita_Rank': 17}, {'State_lower_name': 'Louisiana', 'Coal_Consumption_2018_all_sectors_thousand_tons': 8110.98, 'Coal_Consumption_2014_all_sectors_thousand_tons': 12632.39, 'Production_US_Share': 3, 'Production_Rank': 9, 'Consumption_per_Capita_Million_Btu': 897, 'Consumption_per_Capita_Rank': 1, 'Expenditures_per_Capita_Dollars': 5637, 'Expenditures_per_Capita_Rank': 4}, {'State_lower_name': 'Massachusetts', 'Coal_Consumption_2018_all_sectors_thousand_tons': 0, 'Coal_Consumption_2014_all_sectors_thousand_tons': 1295.367, 'Production_US_Share': 0.1, 'Production_Rank': 45, 'Consumption_per_Capita_Million_Btu': 209, 'Consumption_per_Capita_Rank': 44, 'Expenditures_per_Capita_Dollars': 3155, 'Expenditures_per_Capita_Rank': 31}, {'State_lower_name': 'Maryland', 'Coal_Consumption_2018_all_sectors_thousand_tons': 4669.129, 'Coal_Consumption_2014_all_sectors_thousand_tons': 7778.429, 'Production_US_Share': 0.3, 'Production_Rank': 38, 'Consumption_per_Capita_Million_Btu': 226, 'Consumption_per_Capita_Rank': 41, 'Expenditures_per_Capita_Dollars': 2925, 'Expenditures_per_Capita_Rank': 38}, {'State_lower_name': 'Maine', 'Coal_Consumption_2018_all_sectors_thousand_tons': 80.358, 'Coal_Consumption_2014_all_sectors_thousand_tons': 85.463, 'Production_US_Share': 0.2, 'Production_Rank': 44, 'Consumption_per_Capita_Million_Btu': 292, 'Consumption_per_Capita_Rank': 28, 'Expenditures_per_Capita_Dollars': 3968, 'Expenditures_per_Capita_Rank': 9}, {'State_lower_name': 'Michigan', 'Coal_Consumption_2018_all_sectors_thousand_tons': 24737.627999999997, 'Coal_Consumption_2014_all_sectors_thousand_tons': 29790.04, 'Production_US_Share': 0.8, 'Production_Rank': 26, 'Consumption_per_Capita_Million_Btu': 277, 'Consumption_per_Capita_Rank': 32, 'Expenditures_per_Capita_Dollars': 3082, 'Expenditures_per_Capita_Rank': 35}, {'State_lower_name': 'Minnesota', 'Coal_Consumption_2018_all_sectors_thousand_tons': 14656.825, 'Coal_Consumption_2014_all_sectors_thousand_tons': 17624.789, 'Production_US_Share': 0.6, 'Production_Rank': 32, 'Consumption_per_Capita_Million_Btu': 327, 'Consumption_per_Capita_Rank': 20, 'Expenditures_per_Capita_Dollars': 3319, 'Expenditures_per_Capita_Rank': 25}, {'State_lower_name': 'Missouri', 'Coal_Consumption_2018_all_sectors_thousand_tons': 37138.75, 'Coal_Consumption_2014_all_sectors_thousand_tons': 43226.403, 'Production_US_Share': 0.2, 'Production_Rank': 41, 'Consumption_per_Capita_Million_Btu': 292, 'Consumption_per_Capita_Rank': 27, 'Expenditures_per_Capita_Dollars': 3262, 'Expenditures_per_Capita_Rank': 29}, {'State_lower_name': 'Mississippi', 'Coal_Consumption_2018_all_sectors_thousand_tons': 4505.93, 'Coal_Consumption_2014_all_sectors_thousand_tons': 6550.473000000001, 'Production_US_Share': 0.4, 'Production_Rank': 36, 'Consumption_per_Capita_Million_Btu': 391, 'Consumption_per_Capita_Rank': 13, 'Expenditures_per_Capita_Dollars': 3949, 'Expenditures_per_Capita_Rank': 11}, {'State_lower_name': 'Montana', 'Coal_Consumption_2018_all_sectors_thousand_tons': 8747.030999999999, 'Coal_Consumption_2014_all_sectors_thousand_tons': 10225.201, 'Production_US_Share': 1, 'Production_Rank': 21, 'Consumption_per_Capita_Million_Btu': 380, 'Consumption_per_Capita_Rank': 15, 'Expenditures_per_Capita_Dollars': 3826, 'Expenditures_per_Capita_Rank': 14}, {'State_lower_name': 'North Carolina', 'Coal_Consumption_2018_all_sectors_thousand_tons': 12959.743, 'Coal_Consumption_2014_all_sectors_thousand_tons': 20108.751, 'Production_US_Share': 0.8, 'Production_Rank': 27, 'Consumption_per_Capita_Million_Btu': 251, 'Consumption_per_Capita_Rank': 37, 'Expenditures_per_Capita_Dollars': 2888, 'Expenditures_per_Capita_Rank': 42}, {'State_lower_name': 'North Dakota', 'Coal_Consumption_2018_all_sectors_thousand_tons': 23346.731, 'Coal_Consumption_2014_all_sectors_thousand_tons': 22543.47, 'Production_US_Share': 4.2, 'Production_Rank': 6, 'Consumption_per_Capita_Million_Btu': 776, 'Consumption_per_Capita_Rank': 4, 'Expenditures_per_Capita_Dollars': 6072, 'Expenditures_per_Capita_Rank': 3}, {'State_lower_name': 'Nebraska', 'Coal_Consumption_2018_all_sectors_thousand_tons': 15077.461000000001, 'Coal_Consumption_2014_all_sectors_thousand_tons': 15816.061000000002, 'Production_US_Share': 0.5, 'Production_Rank': 34, 'Consumption_per_Capita_Million_Btu': 455, 'Consumption_per_Capita_Rank': 7, 'Expenditures_per_Capita_Dollars': 3962, 'Expenditures_per_Capita_Rank': 10}, {'State_lower_name': 'New Hampshire', 'Coal_Consumption_2018_all_sectors_thousand_tons': 286.741, 'Coal_Consumption_2014_all_sectors_thousand_tons': 543.854, 'Production_US_Share': 0.2, 'Production_Rank': 42, 'Consumption_per_Capita_Million_Btu': 225, 'Consumption_per_Capita_Rank': 42, 'Expenditures_per_Capita_Dollars': 3515, 'Expenditures_per_Capita_Rank': 21}, {'State_lower_name': 'New Jersey', 'Coal_Consumption_2018_all_sectors_thousand_tons': 648.154, 'Coal_Consumption_2014_all_sectors_thousand_tons': 1213.927, 'Production_US_Share': 0.4, 'Production_Rank': 35, 'Consumption_per_Capita_Million_Btu': 247, 'Consumption_per_Capita_Rank': 38, 'Expenditures_per_Capita_Dollars': 3124, 'Expenditures_per_Capita_Rank': 32}, {'State_lower_name': 'New Mexico', 'Coal_Consumption_2018_all_sectors_thousand_tons': 7261.656999999999, 'Coal_Consumption_2014_all_sectors_thousand_tons': 11913.479, 'Production_US_Share': 3.1, 'Production_Rank': 8, 'Consumption_per_Capita_Million_Btu': 320, 'Consumption_per_Capita_Rank': 21, 'Expenditures_per_Capita_Dollars': 3089, 'Expenditures_per_Capita_Rank': 34}, {'State_lower_name': 'Nevada', 'Coal_Consumption_2018_all_sectors_thousand_tons': 1411.665, 'Coal_Consumption_2014_all_sectors_thousand_tons': 3445.862, 'Production_US_Share': 0.1, 'Production_Rank': 46, 'Consumption_per_Capita_Million_Btu': 231, 'Consumption_per_Capita_Rank': 40, 'Expenditures_per_Capita_Dollars': 2820, 'Expenditures_per_Capita_Rank': 46}, {'State_lower_name': 'New York', 'Coal_Consumption_2018_all_sectors_thousand_tons': 285.05400000000003, 'Coal_Consumption_2014_all_sectors_thousand_tons': 2463.792, 'Production_US_Share': 1, 'Production_Rank': 22, 'Consumption_per_Capita_Million_Btu': 185, 'Consumption_per_Capita_Rank': 50, 'Expenditures_per_Capita_Dollars': 2524, 'Expenditures_per_Capita_Rank': 51}, {'State_lower_name': 'Ohio', 'Coal_Consumption_2018_all_sectors_thousand_tons': 25177.697, 'Coal_Consumption_2014_all_sectors_thousand_tons': 38847.54, 'Production_US_Share': 2.9, 'Production_Rank': 11, 'Consumption_per_Capita_Million_Btu': 317, 'Consumption_per_Capita_Rank': 22, 'Expenditures_per_Capita_Dollars': 3255, 'Expenditures_per_Capita_Rank': 30}, {'State_lower_name': 'Oklahoma', 'Coal_Consumption_2018_all_sectors_thousand_tons': 9802.752, 'Coal_Consumption_2014_all_sectors_thousand_tons': 19256.797, 'Production_US_Share': 4.8, 'Production_Rank': 4, 'Consumption_per_Capita_Million_Btu': 417, 'Consumption_per_Capita_Rank': 11, 'Expenditures_per_Capita_Dollars': 3759, 'Expenditures_per_Capita_Rank': 16}, {'State_lower_name': 'Oregon', 'Coal_Consumption_2018_all_sectors_thousand_tons': 895.2080000000001, 'Coal_Consumption_2014_all_sectors_thousand_tons': 1853.491, 'Production_US_Share': 0.5, 'Production_Rank': 33, 'Consumption_per_Capita_Million_Btu': 239, 'Consumption_per_Capita_Rank': 39, 'Expenditures_per_Capita_Dollars': 2885, 'Expenditures_per_Capita_Rank': 43}, {'State_lower_name': 'Pennsylvania', 'Coal_Consumption_2018_all_sectors_thousand_tons': 23594.825, 'Coal_Consumption_2014_all_sectors_thousand_tons': 39023.617, 'Production_US_Share': 9.4, 'Production_Rank': 2, 'Consumption_per_Capita_Million_Btu': 294, 'Consumption_per_Capita_Rank': 26, 'Expenditures_per_Capita_Dollars': 3108, 'Expenditures_per_Capita_Rank': 33}, {'State_lower_name': 'Rhode Island', 'Coal_Consumption_2018_all_sectors_thousand_tons': 0, 'Coal_Consumption_2014_all_sectors_thousand_tons': 0, 'Production_US_Share': 0, 'Production_Rank': 49, 'Consumption_per_Capita_Million_Btu': 176, 'Consumption_per_Capita_Rank': 51, 'Expenditures_per_Capita_Dollars': 2866, 'Expenditures_per_Capita_Rank': 45}, {'State_lower_name': 'South Carolina', 'Coal_Consumption_2018_all_sectors_thousand_tons': 8305.206, 'Coal_Consumption_2014_all_sectors_thousand_tons': 12076.83, 'Production_US_Share': 0.8, 'Production_Rank': 25, 'Consumption_per_Capita_Million_Btu': 333, 'Consumption_per_Capita_Rank': 18, 'Expenditures_per_Capita_Dollars': 3569, 'Expenditures_per_Capita_Rank': 19}, {'State_lower_name': 'South Dakota', 'Coal_Consumption_2018_all_sectors_thousand_tons': 1519.116, 'Coal_Consumption_2014_all_sectors_thousand_tons': 1780.371, 'Production_US_Share': 0.3, 'Production_Rank': 39, 'Consumption_per_Capita_Million_Btu': 445, 'Consumption_per_Capita_Rank': 8, 'Expenditures_per_Capita_Dollars': 4098, 'Expenditures_per_Capita_Rank': 5}, {'State_lower_name': 'Tennessee', 'Coal_Consumption_2018_all_sectors_thousand_tons': 11198.51, 'Coal_Consumption_2014_all_sectors_thousand_tons': 19576.131, 'Production_US_Share': 0.6, 'Production_Rank': 31, 'Consumption_per_Capita_Million_Btu': 333, 'Consumption_per_Capita_Rank': 19, 'Expenditures_per_Capita_Dollars': 3374, 'Expenditures_per_Capita_Rank': 24}, {'State_lower_name': 'Texas', 'Coal_Consumption_2018_all_sectors_thousand_tons': 75688.982, 'Coal_Consumption_2014_all_sectors_thousand_tons': 101657.50300000001, 'Production_US_Share': 20.3, 'Production_Rank': 1, 'Consumption_per_Capita_Million_Btu': 472, 'Consumption_per_Capita_Rank': 6, 'Expenditures_per_Capita_Dollars': 4004, 'Expenditures_per_Capita_Rank': 7}, {'State_lower_name': 'Utah', 'Coal_Consumption_2018_all_sectors_thousand_tons': 12331.68, 'Coal_Consumption_2014_all_sectors_thousand_tons': 15314.291000000001, 'Production_US_Share': 1.1, 'Production_Rank': 18, 'Consumption_per_Capita_Million_Btu': 266, 'Consumption_per_Capita_Rank': 35, 'Expenditures_per_Capita_Dollars': 2773, 'Expenditures_per_Capita_Rank': 47}, {'State_lower_name': 'Virginia', 'Coal_Consumption_2018_all_sectors_thousand_tons': 5110.883, 'Coal_Consumption_2014_all_sectors_thousand_tons': 10396.76, 'Production_US_Share': 1.1, 'Production_Rank': 20, 'Consumption_per_Capita_Million_Btu': 277, 'Consumption_per_Capita_Rank': 31, 'Expenditures_per_Capita_Dollars': 3024, 'Expenditures_per_Capita_Rank': 36}, {'State_lower_name': 'Vermont', 'Coal_Consumption_2018_all_sectors_thousand_tons': 0, 'Coal_Consumption_2014_all_sectors_thousand_tons': 0, 'Production_US_Share': 0, 'Production_Rank': 47, 'Consumption_per_Capita_Million_Btu': 206, 'Consumption_per_Capita_Rank': 45, 'Expenditures_per_Capita_Dollars': 3830, 'Expenditures_per_Capita_Rank': 13}, {'State_lower_name': 'Washington', 'Coal_Consumption_2018_all_sectors_thousand_tons': 3701.8990000000003, 'Coal_Consumption_2014_all_sectors_thousand_tons': 4593.124, 'Production_US_Share': 1.2, 'Production_Rank': 17, 'Consumption_per_Capita_Million_Btu': 283, 'Consumption_per_Capita_Rank': 30, 'Expenditures_per_Capita_Dollars': 2922, 'Expenditures_per_Capita_Rank': 40}, {'State_lower_name': 'Wisconsin', 'Coal_Consumption_2018_all_sectors_thousand_tons': 20154.818, 'Coal_Consumption_2014_all_sectors_thousand_tons': 22255.395, 'Production_US_Share': 0.4, 'Production_Rank': 37, 'Consumption_per_Capita_Million_Btu': 309, 'Consumption_per_Capita_Rank': 24, 'Expenditures_per_Capita_Dollars': 3313, 'Expenditures_per_Capita_Rank': 26}, {'State_lower_name': 'West Virginia', 'Coal_Consumption_2018_all_sectors_thousand_tons': 25710.645, 'Coal_Consumption_2014_all_sectors_thousand_tons': 32355.904, 'Production_US_Share': 4.5, 'Production_Rank': 5, 'Consumption_per_Capita_Million_Btu': 419, 'Consumption_per_Capita_Rank': 10, 'Expenditures_per_Capita_Dollars': 3910, 'Expenditures_per_Capita_Rank': 12}, {'State_lower_name': 'Wyoming', 'Coal_Consumption_2018_all_sectors_thousand_tons': 25176.927000000003, 'Coal_Consumption_2014_all_sectors_thousand_tons': 27476.01, 'Production_US_Share': 8.9, 'Production_Rank': 3, 'Consumption_per_Capita_Million_Btu': 860, 'Consumption_per_Capita_Rank': 2, 'Expenditures_per_Capita_Dollars': 6813, 'Expenditures_per_Capita_Rank': 1}]\n"
     ]
    }
   ],
   "source": [
    "# Query All Records in the the Database\n",
    "# data = engine.execute(\"SELECT * FROM US_production_consumption\")\n",
    "# for record in data:\n",
    "#     print(record)\n",
    "\n",
    "def query():\n",
    "    myresultstoo_again = session.query(UsProductionConsumption.State_lower_name,\n",
    "                            UsProductionConsumption.Coal_Consumption_2018_all_sectors_thousand_tons,\n",
    "                            UsProductionConsumption.Coal_Consumption_2014_all_sectors_thousand_tons,\n",
    "                            UsProductionConsumption.Production_US_Share, \n",
    "                            UsProductionConsumption.Production_Rank, \n",
    "                            UsProductionConsumption.Consumption_per_Capita_Million_Btu,\n",
    "                            UsProductionConsumption.Consumption_per_Capita_Rank,\n",
    "                            UsProductionConsumption.Expenditures_per_Capita_Dollars,\n",
    "                            UsProductionConsumption.Expenditures_per_Capita_Rank).all()\n",
    "    #print(myresultstoo_again)\n",
    "    #return(myresultstoo_again)\n",
    "    us_production_consumption = []\n",
    "    \n",
    "    for State_lower_name, Coal_Consumption_2018_all_sectors_thousand_tons, Coal_Consumption_2014_all_sectors_thousand_tons, Production_US_Share, Production_Rank, Consumption_per_Capita_Million_Btu, Consumption_per_Capita_Rank, Expenditures_per_Capita_Dollars, Expenditures_per_Capita_Rank in myresultstoo_again:\n",
    "        us_production_consumption_dict = {}\n",
    "        us_production_consumption_dict[\"State_lower_name\"] = State_lower_name\n",
    "        us_production_consumption_dict[\"Coal_Consumption_2018_all_sectors_thousand_tons\"] = Coal_Consumption_2018_all_sectors_thousand_tons\n",
    "        us_production_consumption_dict[\"Coal_Consumption_2014_all_sectors_thousand_tons\"] = Coal_Consumption_2014_all_sectors_thousand_tons\n",
    "        us_production_consumption_dict[\"Production_US_Share\"] = Production_US_Share\n",
    "        us_production_consumption_dict[\"Production_Rank\"] = Production_Rank\n",
    "        us_production_consumption_dict[\"Consumption_per_Capita_Million_Btu\"] = Consumption_per_Capita_Million_Btu\n",
    "        us_production_consumption_dict[\"Consumption_per_Capita_Rank\"] = Consumption_per_Capita_Rank\n",
    "        us_production_consumption_dict[\"Expenditures_per_Capita_Dollars\"] = Expenditures_per_Capita_Dollars\n",
    "        us_production_consumption_dict[\"Expenditures_per_Capita_Rank\"] = Expenditures_per_Capita_Rank\n",
    "        us_production_consumption.append(us_production_consumption_dict)\n",
    "    print(us_production_consumption)\n",
    "    #return jsonify(us_production_consumption)\n",
    "\n",
    "query()"
   ]
  },
  {
   "cell_type": "code",
   "execution_count": 18,
   "metadata": {},
   "outputs": [],
   "source": [
    "# def UsProductionConsumption():\n",
    "#     # Query all states\n",
    "#     print(\"in function\")\n",
    "#     query()\n",
    "#     # Create a dictionary from the row data and append to a list of all_passengers\n",
    "       \n",
    "#     us_production_consumption = []\n",
    "    \n",
    "#     for State_lower_name, Coal_Consumption_2018_all_sectors_thousand_tons, Coal_Consumption_2014_all_sectors_thousand_tons, Production_US_Share, Production_Rank, Consumption_per_Capita_Million_Btu, Consumption_per_Capita_Rank, Expenditures_per_Capita_Dollars, Expenditures_per_Capita_Rank in myresultstoo_again:\n",
    "#         us_production_consumption_dict = {}\n",
    "#         us_production_consumption_dict[\"State_lower_name\"] = State_lower\n",
    "#         us_production_consumption_dict[\"Coal_Consumption_2018_all_sectors_thousand_tons\"] = Coal_Consumption_2018_all_sectors_thousand_tons\n",
    "#         us_production_consumption_dict[\"Coal_Consumption_2014_all_sectors_thousand_tons\"] = Coal_Consumption_2014_all_sectors_thousand_tons\n",
    "#         us_production_consumption_dict[\"Production_US_Share\"] = Production_US_Share\n",
    "#         us_production_consumption_dict[\"Production_Rank\"] = Production_Rank\n",
    "#         us_production_consumption_dict[\"Consumption_per_Capita_Million_Btu\"] = Consumption_per_Capita_Million_Btu\n",
    "#         us_production_consumption_dict[\"Consumption_per_Capita_Rank\"] = Consumption_per_Capita_Rank\n",
    "#         us_production_consumption_dict[\"Expenditures_per_Capita_Dollars\"] = Expenditures_per_Capita_Dollars\n",
    "#         us_production_consumption_dict[\"Expenditures_per_Capita_Rank\"] = Expenditures_per_Capita_Rank\n",
    "#         us_production_consumption.append(us_production_consumption_dict)\n",
    "#     print(us_production_consumption)\n",
    "#     return jsonify(us_production_consumption)\n",
    "\n",
    "# UsProductionConsumption()"
   ]
  },
  {
   "cell_type": "code",
   "execution_count": null,
   "metadata": {},
   "outputs": [],
   "source": []
  },
  {
   "cell_type": "code",
   "execution_count": 17,
   "metadata": {},
   "outputs": [],
   "source": [
    "session.close()"
   ]
  },
  {
   "cell_type": "markdown",
   "metadata": {},
   "source": [
    "### Use this path to interact with the database created by Pandas"
   ]
  },
  {
   "cell_type": "code",
   "execution_count": 134,
   "metadata": {},
   "outputs": [
    {
     "name": "stdout",
     "output_type": "stream",
     "text": [
      "(0, 'Illinois', 891.6, 796.2, 1176.2, 1007.5)\n",
      "(1, 'Kentucky', 332.0, 257.0, 598.5, 470.7)\n",
      "(2, 'Texas', 1640.6, 1600.5, 6754.4, 3370.3)\n"
     ]
    }
   ],
   "source": [
    "# Query All Records in the the Database\n",
    "data = engine.execute(\"SELECT * FROM energyconsumpsector\")\n",
    "for record in data:\n",
    "    print(record)"
   ]
  },
  {
   "cell_type": "code",
   "execution_count": 135,
   "metadata": {},
   "outputs": [
    {
     "name": "stdout",
     "output_type": "stream",
     "text": [
      "(0, 'Illinois', 4, 985, 4543, 7641, 0, 1255)\n",
      "(1, 'Kentucky', 8, 877, 4353, 0, 316, 39)\n",
      "(2, 'Texas', 4, 15251, 7450, 3430, 150, 6962)\n"
     ]
    }
   ],
   "source": [
    "# Query All Records in the the Database\n",
    "data = engine.execute(\"SELECT * FROM electricitygeneration\")\n",
    "for record in data:\n",
    "    print(record)"
   ]
  },
  {
   "cell_type": "code",
   "execution_count": null,
   "metadata": {},
   "outputs": [],
   "source": []
  },
  {
   "cell_type": "code",
   "execution_count": 169,
   "metadata": {},
   "outputs": [
    {
     "name": "stdout",
     "output_type": "stream",
     "text": [
      "{\"EnergyConsumptionSector\": [{\"index\": 0, \"State\": \"Illinois\", \"Residential\": 891.6, \"Commercial\": 796.2, \"Industrial\": 1176.2, \"Transportation\": 1007.5}, {\"index\": 1, \"State\": \"Kentucky\", \"Residential\": 332.0, \"Commercial\": 257.0, \"Industrial\": 598.5, \"Transportation\": 470.7}, {\"index\": 2, \"State\": \"Texas\", \"Residential\": 1640.6, \"Commercial\": 1600.5, \"Industrial\": 6754.4, \"Transportation\": 3370.3}]}\n",
      "[{'index': 0, 'State': 'Illinois', 'Residential': 891.6, 'Commercial': 796.2, 'Industrial': 1176.2, 'Transportation': 1007.5}, {'index': 1, 'State': 'Kentucky', 'Residential': 332.0, 'Commercial': 257.0, 'Industrial': 598.5, 'Transportation': 470.7}, {'index': 2, 'State': 'Texas', 'Residential': 1640.6, 'Commercial': 1600.5, 'Industrial': 6754.4, 'Transportation': 3370.3}]\n"
     ]
    }
   ],
   "source": [
    "import sqlite3\n",
    "import json\n",
    "con = sqlite3.connect('./static/db/energyData.sqlite')\n",
    "#con.row_factory = sqlite3.Row\n",
    "c = con.cursor()\n",
    "result = c.execute('select * from energyconsumpsector')\n",
    "items = [dict(zip([key[0] for key in c.description],row))for row in result]\n",
    "print(json.dumps({'EnergyConsumptionSector':items}))\n",
    "\n",
    "# items = []\n",
    "# for row in result:\n",
    "#         for key in c.description:\n",
    "#             items.append({key[0]: value for value in row})\n",
    "# print(json.dumps({'items':items}))\n",
    "\n",
    "# for row in c.execute('select * from energyconsumpsector'):\n",
    "#     print(row.keys())\n",
    "#     print(tuple(row))\n",
    "#     data = c.fetchall()\n",
    "# print(json.dumps(data))\n",
    "\n",
    "con.close()"
   ]
  },
  {
   "cell_type": "code",
   "execution_count": 153,
   "metadata": {},
   "outputs": [
    {
     "name": "stdout",
     "output_type": "stream",
     "text": [
      "<sqlalchemy.engine.result.ResultProxy object at 0x0000014FFF6AC4A8>\n"
     ]
    }
   ],
   "source": [
    "import json\n",
    "import sqlite3\n",
    "\n",
    "def get_my_jsonified_data(key):\n",
    "    with sqlite3.connect('./static/db/energyData.sqlite') as conn:\n",
    "        cursor = conn.cursor()\n",
    "        cursor.execute(\"select * from energyconsumpsector\")\n",
    "        data = cursor.fetchall()\n",
    "        return json.dumps(data)\n",
    "\n",
    "print(data)\n",
    "#https://stackoverflow.com/questions/25564399/send-json-response-from-sqlite-queries-in-python"
   ]
  },
  {
   "cell_type": "code",
   "execution_count": null,
   "metadata": {},
   "outputs": [],
   "source": []
  }
 ],
 "metadata": {
  "kernelspec": {
   "display_name": "Python 3",
   "language": "python",
   "name": "python3"
  },
  "language_info": {
   "codemirror_mode": {
    "name": "ipython",
    "version": 3
   },
   "file_extension": ".py",
   "mimetype": "text/x-python",
   "name": "python",
   "nbconvert_exporter": "python",
   "pygments_lexer": "ipython3",
   "version": "3.7.0"
  }
 },
 "nbformat": 4,
 "nbformat_minor": 2
}
