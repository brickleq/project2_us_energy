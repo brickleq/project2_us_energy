{
 "cells": [
  {
   "cell_type": "markdown",
   "metadata": {},
   "source": [
    "## Use this file to test the energyData.sqlite database"
   ]
  },
  {
   "cell_type": "code",
   "execution_count": 4,
   "metadata": {},
   "outputs": [],
   "source": [
    "# import necessary libraries\n",
    "import numpy as np\n",
    "import sqlalchemy\n",
    "from sqlalchemy.ext.automap import automap_base\n",
    "from sqlalchemy.orm import Session\n",
    "from sqlalchemy import create_engine, func\n",
    "from flask import (\n",
    "    Flask,\n",
    "    render_template,\n",
    "    jsonify,\n",
    "    request,\n",
    "    redirect)\n",
    "from flask_sqlalchemy import SQLAlchemy\n",
    "from sqlalchemy import create_engine, inspect"
   ]
  },
  {
   "cell_type": "markdown",
   "metadata": {},
   "source": [
    "### Create a connection with the database file"
   ]
  },
  {
   "cell_type": "code",
   "execution_count": 5,
   "metadata": {},
   "outputs": [],
   "source": [
    "engine = create_engine(\"sqlite:///../static/db/energyData.sqlite\")"
   ]
  },
  {
   "cell_type": "markdown",
   "metadata": {},
   "source": [
    "### Use this path to interact with the database created using SQLAlchemy"
   ]
  },
  {
   "cell_type": "code",
   "execution_count": 6,
   "metadata": {},
   "outputs": [],
   "source": [
    "# reflect an existing database into a new model\n",
    "Base = automap_base()"
   ]
  },
  {
   "cell_type": "code",
   "execution_count": 7,
   "metadata": {},
   "outputs": [],
   "source": [
    "# reflect the tables\n",
    "Base.prepare(engine, reflect=True)"
   ]
  },
  {
   "cell_type": "code",
   "execution_count": 8,
   "metadata": {},
   "outputs": [
    {
     "name": "stdout",
     "output_type": "stream",
     "text": [
      "['electricity_generation_source', 'energy_consumption_estimates', 'energy_consumption_sector', 'plant_data']\n"
     ]
    }
   ],
   "source": [
    "# Print all of the classes mapped to the Base\n",
    "print(Base.classes.keys())"
   ]
  },
  {
   "cell_type": "code",
   "execution_count": 9,
   "metadata": {},
   "outputs": [],
   "source": [
    "# Create the inspector and connect it to the engine\n",
    "inspector = inspect(engine)"
   ]
  },
  {
   "cell_type": "code",
   "execution_count": 10,
   "metadata": {},
   "outputs": [
    {
     "data": {
      "text/plain": [
       "['electricity_generation_source',\n",
       " 'energy_consumption_estimates',\n",
       " 'energy_consumption_sector',\n",
       " 'plant_data',\n",
       " 'sqlite_sequence']"
      ]
     },
     "execution_count": 10,
     "metadata": {},
     "output_type": "execute_result"
    }
   ],
   "source": [
    "# Collect the names of tables within the database\n",
    "inspector.get_table_names()"
   ]
  },
  {
   "cell_type": "code",
   "execution_count": 8,
   "metadata": {},
   "outputs": [
    {
     "name": "stdout",
     "output_type": "stream",
     "text": [
      "(1, 'Illinois', 891.6, 796.2, 1176.2, 1007.5)\n",
      "(2, 'Kentucky', 332, 257, 598.5, 470.7)\n",
      "(3, 'Texas', 1640.6, 1600.5, 6754.4, 3370.3)\n"
     ]
    }
   ],
   "source": [
    "# Query All Records in the the Database\n",
    "data = engine.execute(\"SELECT * FROM energy_consumption_sector\")\n",
    "for record in data:\n",
    "    print(record)"
   ]
  },
  {
   "cell_type": "code",
   "execution_count": 9,
   "metadata": {},
   "outputs": [],
   "source": [
    "# Create a \"Metadata\" Layer That Abstracts our SQL Database\n",
    "Base.metadata.create_all(engine)\n",
    "\n",
    "# Use this to clear out the db\n",
    "# Base.metadata.drop_all(engine)"
   ]
  },
  {
   "cell_type": "code",
   "execution_count": 18,
   "metadata": {},
   "outputs": [],
   "source": [
    "# Save a reference to the StateEnergyConumptionSector table as `ConsumptionSector`\n",
    "ConsumptionSector = Base.classes.energy_consumption_sector\n",
    "ElectricityGeneration = Base.classes.electricity_generation_source\n",
    "EnergyConsumption = Base.classes.energy_consumption_estimates\n",
    "PlantData = Base.classes.plant_data"
   ]
  },
  {
   "cell_type": "code",
   "execution_count": 19,
   "metadata": {},
   "outputs": [],
   "source": [
    "# Create a database session object\n",
    "session = Session(engine)"
   ]
  },
  {
   "cell_type": "code",
   "execution_count": 12,
   "metadata": {},
   "outputs": [],
   "source": [
    "#results = session.query(ConsumptionSector.State).all()\n",
    "#print(results)"
   ]
  },
  {
   "cell_type": "code",
   "execution_count": 13,
   "metadata": {},
   "outputs": [
    {
     "name": "stdout",
     "output_type": "stream",
     "text": [
      "[{'State': 'Illinois', 'Residential': 891.6, 'Commercial': 796.2, 'Industrial': 1176.2, 'Transportation': 1007.5}, {'State': 'Kentucky', 'Residential': 332, 'Commercial': 257, 'Industrial': 598.5, 'Transportation': 470.7}, {'State': 'Texas', 'Residential': 1640.6, 'Commercial': 1600.5, 'Industrial': 6754.4, 'Transportation': 3370.3}]\n"
     ]
    }
   ],
   "source": [
    "def consumptionSectors():\n",
    "    # Query all states\n",
    "    results = session.query(ConsumptionSector.State, \n",
    "            ConsumptionSector.Residential, \n",
    "            ConsumptionSector.Commercial, \n",
    "            ConsumptionSector.Industrial,\n",
    "            ConsumptionSector.Transportation).all()\n",
    "    #print(results)\n",
    "    # Create a dictionary from the row data and append to a list of all_passengers\n",
    "    consumption_sector = []\n",
    "    for State, Residential, Commercial, Industrial, Transportation in results:\n",
    "        consumption_sector_dict = {}\n",
    "        consumption_sector_dict[\"State\"] = State\n",
    "        consumption_sector_dict[\"Residential\"] = Residential\n",
    "        consumption_sector_dict[\"Commercial\"] = Commercial\n",
    "        consumption_sector_dict[\"Industrial\"] = Industrial\n",
    "        consumption_sector_dict[\"Transportation\"] = Transportation\n",
    "        consumption_sector.append(consumption_sector_dict)\n",
    "    #return jsonify(consumption_sector)\n",
    "    print(consumption_sector)\n",
    "\n",
    "consumptionSectors()"
   ]
  },
  {
   "cell_type": "code",
   "execution_count": 14,
   "metadata": {},
   "outputs": [
    {
     "name": "stdout",
     "output_type": "stream",
     "text": [
      "(1, 'Illinois', 4, 985, 4543, 7641, 0, 1255)\n",
      "(2, 'Kentucky', 8, 877, 4353, 0, 316, 39)\n",
      "(3, 'Texas', 4, 15251, 7450, 3430, 150, 6962)\n"
     ]
    }
   ],
   "source": [
    "# Query All Records in the the Database\n",
    "data = engine.execute(\"SELECT * FROM electricity_generation_source\")\n",
    "for record in data:\n",
    "    print(record)"
   ]
  },
  {
   "cell_type": "code",
   "execution_count": 15,
   "metadata": {},
   "outputs": [],
   "source": [
    "def electricityGeneration():\n",
    "    # Query all states\n",
    "    results = session.query(ElectricityGeneration.State, \n",
    "            ElectricityGeneration.Petroleum_Fired, \n",
    "            ElectricityGeneration.Natural_Gas_Fired, \n",
    "            ElectricityGeneration.Coal_Fired,\n",
    "            ElectricityGeneration.Nuclear,\n",
    "            ElectricityGeneration.Hydroelectric,\n",
    "            ElectricityGeneration.Nonhydroelectric_Renewables).all()\n",
    "    #print(results)\n",
    "    # Create a dictionary from the row data and append to a list of all_passengers\n",
    "    electricity_generation = []\n",
    "    for State, Petroleum_Fired, Natural_Gas_Fired, Coal_Fired, Nuclear, Hydroelectric, Nonhydroelectric_Renewables  in results:\n",
    "        electricity_generation_dict = {}\n",
    "        electricity_generation_dict[\"State\"] = State\n",
    "        electricity_generation_dict[\"Petroleum Fired\"] = Petroleum_Fired\n",
    "        electricity_generation_dict[\"Natural Gas Fired\"] = Natural_Gas_Fired\n",
    "        electricity_generation_dict[\"Coal Fired\"] = Coal_Fired\n",
    "        electricity_generation_dict[\"Nuclear\"] = Nuclear\n",
    "        electricity_generation_dict[\"Hydroelectric\"] = Hydroelectric\n",
    "        electricity_generation_dict[\"Nonhydroelectric_Renewables\"] = Nonhydroelectric_Renewables\n",
    "        electricity_generation.append(electricity_generation_dict)\n",
    "    return jsonify(electricity_generation)"
   ]
  },
  {
   "cell_type": "code",
   "execution_count": 16,
   "metadata": {},
   "outputs": [
    {
     "name": "stdout",
     "output_type": "stream",
     "text": [
      "(1, 'Illinois', 685, 1035, 540.2, 304.3, 159.7, 69.7, 1.3, 166.6, 1016.5, 1.2, 147.5, 117.3, 0, -372.8)\n",
      "(2, 'Kentucky', 639.4, 296.9, 249.4, 150.5, 72, 31.7, 0.2, 77.6, 0, 41.5, 52.6, 3.2, 0, 43.4)\n",
      "(3, 'Texas', 1452, 3994.2, 1596, 1045, 550.2, 1914.8, 194.3, 1212.8, 403.5, 9.8, 221.3, 645.5, -19.1, 145.6)\n"
     ]
    }
   ],
   "source": [
    "# Query All Records in the the Database\n",
    "data = engine.execute(\"SELECT * FROM energy_consumption_estimates\")\n",
    "for record in data:\n",
    "    print(record)"
   ]
  },
  {
   "cell_type": "code",
   "execution_count": 17,
   "metadata": {},
   "outputs": [
    {
     "name": "stdout",
     "output_type": "stream",
     "text": [
      "[{'State': 'Illinois', 'Coal': 685, 'Natural_Gas': 1035, 'Motor_Gasoline_excl_Ethanol': 540.2, 'Distillate_Fuel_Oil': 304.3, 'Jet_Fuel': 159.7, 'HGL': 69.7, 'Residual_Fuel': 1.3, 'Other_Petroleum': 166.6, 'Nuclear_Electric_Power': 1016.5, 'Hydroelectric_Power': 1.2, 'Biomass': 147.5, 'Other_Renewables': 117.3, 'Net_Electricity_Imports': 0, 'Net_Interstate_Flow_of_Electricity': -372.8}, {'State': 'Kentucky', 'Coal': 639.4, 'Natural_Gas': 296.9, 'Motor_Gasoline_excl_Ethanol': 249.4, 'Distillate_Fuel_Oil': 150.5, 'Jet_Fuel': 72, 'HGL': 31.7, 'Residual_Fuel': 0.2, 'Other_Petroleum': 77.6, 'Nuclear_Electric_Power': 0, 'Hydroelectric_Power': 41.5, 'Biomass': 52.6, 'Other_Renewables': 3.2, 'Net_Electricity_Imports': 0, 'Net_Interstate_Flow_of_Electricity': 43.4}, {'State': 'Texas', 'Coal': 1452, 'Natural_Gas': 3994.2, 'Motor_Gasoline_excl_Ethanol': 1596, 'Distillate_Fuel_Oil': 1045, 'Jet_Fuel': 550.2, 'HGL': 1914.8, 'Residual_Fuel': 194.3, 'Other_Petroleum': 1212.8, 'Nuclear_Electric_Power': 403.5, 'Hydroelectric_Power': 9.8, 'Biomass': 221.3, 'Other_Renewables': 645.5, 'Net_Electricity_Imports': -19.1, 'Net_Interstate_Flow_of_Electricity': 145.6}]\n"
     ]
    }
   ],
   "source": [
    "def energyConsumption():\n",
    "    # Query all states\n",
    "    results = session.query(EnergyConsumption.State, \n",
    "            EnergyConsumption.Coal, \n",
    "            EnergyConsumption.Natural_Gas, \n",
    "            EnergyConsumption.Motor_Gasoline_excl_Ethanol,\n",
    "            EnergyConsumption.Distillate_Fuel_Oil,\n",
    "            EnergyConsumption.Jet_Fuel,\n",
    "            EnergyConsumption.HGL,\n",
    "            EnergyConsumption.Residual_Fuel,\n",
    "            EnergyConsumption.Other_Petroleum,\n",
    "            EnergyConsumption.Nuclear_Electric_Power,\n",
    "            EnergyConsumption.Hydroelectric_Power,\n",
    "            EnergyConsumption.Biomass,\n",
    "            EnergyConsumption.Other_Renewables,\n",
    "            EnergyConsumption.Net_Electricity_Imports,\n",
    "            EnergyConsumption.Net_Interstate_Flow_of_Electricity).all()\n",
    "    #print(results)\n",
    "    # Create a dictionary from the row data and append to a list of all_passengers\n",
    "    energy_consumption = []\n",
    "    \n",
    "    for State, Coal, Natural_Gas, Motor_Gasoline_excl_Ethanol, Distillate_Fuel_Oil, Jet_Fuel, HGL, Residual_Fuel, Other_Petroleum, Nuclear_Electric_Power, Hydroelectric_Power, Biomass, Other_Renewables, Net_Electricity_Imports, Net_Interstate_Flow_of_Electricity in results:\n",
    "        energy_consumption_dict = {}\n",
    "        energy_consumption_dict[\"State\"] = State\n",
    "        energy_consumption_dict[\"Coal\"] = Coal\n",
    "        energy_consumption_dict[\"Natural_Gas\"] = Natural_Gas\n",
    "        energy_consumption_dict[\"Motor_Gasoline_excl_Ethanol\"] = Motor_Gasoline_excl_Ethanol\n",
    "        energy_consumption_dict[\"Distillate_Fuel_Oil\"] = Distillate_Fuel_Oil\n",
    "        energy_consumption_dict[\"Jet_Fuel\"] = Jet_Fuel\n",
    "        energy_consumption_dict[\"HGL\"] = HGL\n",
    "        energy_consumption_dict[\"Residual_Fuel\"] = Residual_Fuel\n",
    "        energy_consumption_dict[\"Other_Petroleum\"] = Other_Petroleum\n",
    "        energy_consumption_dict[\"Nuclear_Electric_Power\"] = Nuclear_Electric_Power\n",
    "        energy_consumption_dict[\"Hydroelectric_Power\"] = Hydroelectric_Power\n",
    "        energy_consumption_dict[\"Biomass\"] = Biomass\n",
    "        energy_consumption_dict[\"Other_Renewables\"] = Other_Renewables\n",
    "        energy_consumption_dict[\"Net_Electricity_Imports\"] = Net_Electricity_Imports\n",
    "        energy_consumption_dict[\"Net_Interstate_Flow_of_Electricity\"] = Net_Interstate_Flow_of_Electricity\n",
    "        energy_consumption.append(energy_consumption_dict)\n",
    "    print(energy_consumption)\n",
    "    #return jsonify(energy_consumption)\n",
    "\n",
    "energyConsumption()"
   ]
  },
  {
   "cell_type": "code",
   "execution_count": 21,
   "metadata": {},
   "outputs": [
    {
     "name": "stdout",
     "output_type": "stream",
     "text": [
      "{'Utility_ID': 794, 'Utility_Name': 'Apollo Energy Corp', 'Plant_Name': 'Kamaoa Wind Farm', 'Street_Address': '93-1373 South Point Road', 'City': \"Ka'u\", 'State': 'HI', 'Zip': 96772, 'County': 'Hawaii', 'Latitude': 18.992222, 'Longitude': -155.668056, 'Name_of_Water_Source': None, 'Primary_Purpose_NAICS_Code': 22, 'Sector_Name': 'IPP Non-CHP', 'Grid_Voltage_kV': 0}\n"
     ]
    }
   ],
   "source": [
    "def plantData():\n",
    "    # Query all states\n",
    "    results = session.query(PlantData.Utility_ID, \n",
    "            PlantData.Utility_Name, \n",
    "            PlantData.Plant_Code, \n",
    "            PlantData.Plant_Name, \n",
    "            PlantData.Street_Address, \n",
    "            PlantData.City, \n",
    "            PlantData.State, \n",
    "            PlantData.Zip, \n",
    "            PlantData.County, \n",
    "            PlantData.Latitude, \n",
    "            PlantData.Longitude, \n",
    "            PlantData.Name_of_Water_Source, \n",
    "            PlantData.Primary_Purpose_NAICS_Code, \n",
    "            PlantData.Sector_Name,\n",
    "            PlantData.Grid_Voltage_kV).all()\n",
    "    #print(results)\n",
    "  \n",
    "    # Create a dictionary from the row data and append to a list of all_passengers\n",
    "       \n",
    "    plant_data = []\n",
    "   \n",
    "    for Utility_ID, Utility_Name, Plant_Code, Plant_Name, Street_Address, City, State, Zip, County, Latitude, Longitude, Name_of_Water_Source, Primary_Purpose_NAICS_Code, Sector_Name, Grid_Voltage_kV in results:\n",
    "        plant_data_dict = {}\n",
    "        plant_data_dict[\"Utility_ID\"] = Utility_ID\n",
    "        plant_data_dict[\"Utility_Name\"] = Utility_Name\n",
    "        plant_data_dict[\"Plant_Name\"] = Plant_Name\n",
    "        plant_data_dict[\"Street_Address\"] = Street_Address\n",
    "        plant_data_dict[\"City\"] = City\n",
    "        plant_data_dict[\"State\"] = State\n",
    "        plant_data_dict[\"Zip\"] = Zip\n",
    "        plant_data_dict[\"County\"] = County\n",
    "        plant_data_dict[\"Latitude\"] = Latitude\n",
    "        plant_data_dict[\"Longitude\"] = Longitude\n",
    "        plant_data_dict[\"Name_of_Water_Source\"] = Name_of_Water_Source\n",
    "        plant_data_dict[\"Primary_Purpose_NAICS_Code\"] = Primary_Purpose_NAICS_Code\n",
    "        plant_data_dict[\"Sector_Name\"] = Sector_Name\n",
    "        plant_data_dict[\"Grid_Voltage_kV\"] = Grid_Voltage_kV\n",
    "        plant_data.append(plant_data_dict)\n",
    "    print(plant_data[1])\n",
    "    #return jsonify(plant_data)\n",
    "\n",
    "plantData()"
   ]
  },
  {
   "cell_type": "code",
   "execution_count": null,
   "metadata": {},
   "outputs": [],
   "source": []
  },
  {
   "cell_type": "code",
   "execution_count": null,
   "metadata": {},
   "outputs": [],
   "source": []
  },
  {
   "cell_type": "code",
   "execution_count": null,
   "metadata": {},
   "outputs": [],
   "source": []
  },
  {
   "cell_type": "code",
   "execution_count": null,
   "metadata": {},
   "outputs": [],
   "source": []
  },
  {
   "cell_type": "markdown",
   "metadata": {},
   "source": [
    "### Use this path to interact with the database created by Pandas"
   ]
  },
  {
   "cell_type": "code",
   "execution_count": 134,
   "metadata": {},
   "outputs": [
    {
     "name": "stdout",
     "output_type": "stream",
     "text": [
      "(0, 'Illinois', 891.6, 796.2, 1176.2, 1007.5)\n",
      "(1, 'Kentucky', 332.0, 257.0, 598.5, 470.7)\n",
      "(2, 'Texas', 1640.6, 1600.5, 6754.4, 3370.3)\n"
     ]
    }
   ],
   "source": [
    "# Query All Records in the the Database\n",
    "data = engine.execute(\"SELECT * FROM energyconsumpsector\")\n",
    "for record in data:\n",
    "    print(record)"
   ]
  },
  {
   "cell_type": "code",
   "execution_count": 135,
   "metadata": {},
   "outputs": [
    {
     "name": "stdout",
     "output_type": "stream",
     "text": [
      "(0, 'Illinois', 4, 985, 4543, 7641, 0, 1255)\n",
      "(1, 'Kentucky', 8, 877, 4353, 0, 316, 39)\n",
      "(2, 'Texas', 4, 15251, 7450, 3430, 150, 6962)\n"
     ]
    }
   ],
   "source": [
    "# Query All Records in the the Database\n",
    "data = engine.execute(\"SELECT * FROM electricitygeneration\")\n",
    "for record in data:\n",
    "    print(record)"
   ]
  },
  {
   "cell_type": "code",
   "execution_count": 169,
   "metadata": {},
   "outputs": [
    {
     "name": "stdout",
     "output_type": "stream",
     "text": [
      "{\"EnergyConsumptionSector\": [{\"index\": 0, \"State\": \"Illinois\", \"Residential\": 891.6, \"Commercial\": 796.2, \"Industrial\": 1176.2, \"Transportation\": 1007.5}, {\"index\": 1, \"State\": \"Kentucky\", \"Residential\": 332.0, \"Commercial\": 257.0, \"Industrial\": 598.5, \"Transportation\": 470.7}, {\"index\": 2, \"State\": \"Texas\", \"Residential\": 1640.6, \"Commercial\": 1600.5, \"Industrial\": 6754.4, \"Transportation\": 3370.3}]}\n",
      "[{'index': 0, 'State': 'Illinois', 'Residential': 891.6, 'Commercial': 796.2, 'Industrial': 1176.2, 'Transportation': 1007.5}, {'index': 1, 'State': 'Kentucky', 'Residential': 332.0, 'Commercial': 257.0, 'Industrial': 598.5, 'Transportation': 470.7}, {'index': 2, 'State': 'Texas', 'Residential': 1640.6, 'Commercial': 1600.5, 'Industrial': 6754.4, 'Transportation': 3370.3}]\n"
     ]
    }
   ],
   "source": [
    "import sqlite3\n",
    "import json\n",
    "con = sqlite3.connect('./static/db/energyData.sqlite')\n",
    "#con.row_factory = sqlite3.Row\n",
    "c = con.cursor()\n",
    "result = c.execute('select * from energyconsumpsector')\n",
    "items = [dict(zip([key[0] for key in c.description],row))for row in result]\n",
    "print(json.dumps({'EnergyConsumptionSector':items}))\n",
    "\n",
    "# items = []\n",
    "# for row in result:\n",
    "#         for key in c.description:\n",
    "#             items.append({key[0]: value for value in row})\n",
    "# print(json.dumps({'items':items}))\n",
    "\n",
    "# for row in c.execute('select * from energyconsumpsector'):\n",
    "#     print(row.keys())\n",
    "#     print(tuple(row))\n",
    "#     data = c.fetchall()\n",
    "# print(json.dumps(data))\n",
    "\n",
    "con.close()"
   ]
  },
  {
   "cell_type": "code",
   "execution_count": 153,
   "metadata": {},
   "outputs": [
    {
     "name": "stdout",
     "output_type": "stream",
     "text": [
      "<sqlalchemy.engine.result.ResultProxy object at 0x0000014FFF6AC4A8>\n"
     ]
    }
   ],
   "source": [
    "import json\n",
    "import sqlite3\n",
    "\n",
    "def get_my_jsonified_data(key):\n",
    "    with sqlite3.connect('./static/db/energyData.sqlite') as conn:\n",
    "        cursor = conn.cursor()\n",
    "        cursor.execute(\"select * from energyconsumpsector\")\n",
    "        data = cursor.fetchall()\n",
    "        return json.dumps(data)\n",
    "\n",
    "print(data)\n",
    "#https://stackoverflow.com/questions/25564399/send-json-response-from-sqlite-queries-in-python"
   ]
  },
  {
   "cell_type": "code",
   "execution_count": null,
   "metadata": {},
   "outputs": [],
   "source": []
  }
 ],
 "metadata": {
  "kernelspec": {
   "display_name": "Python 3",
   "language": "python",
   "name": "python3"
  },
  "language_info": {
   "codemirror_mode": {
    "name": "ipython",
    "version": 3
   },
   "file_extension": ".py",
   "mimetype": "text/x-python",
   "name": "python",
   "nbconvert_exporter": "python",
   "pygments_lexer": "ipython3",
   "version": "3.7.0"
  }
 },
 "nbformat": 4,
 "nbformat_minor": 2
}
