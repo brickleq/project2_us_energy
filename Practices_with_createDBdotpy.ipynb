{
 "cells": [
  {
   "cell_type": "code",
   "execution_count": 240,
   "metadata": {},
   "outputs": [],
   "source": [
    "##########################\n",
    "## Import Libraries and Dependencies\n",
    "##########################\n",
    "import sqlite3, csv\n",
    "import sqlite3\n",
    "import pandas as pd\n",
    "from numpy import genfromtxt\n",
    "from time import time\n",
    "from datetime import datetime\n",
    "from sqlalchemy import Column, String, Integer, Float, Date, VARCHAR\n",
    "from sqlalchemy.ext.declarative import declarative_base\n",
    "from sqlalchemy import create_engine\n",
    "from sqlalchemy.orm import sessionmaker\n",
    "from sqlalchemy import *\n",
    "from sqlalchemy.ext.declarative import declarative_base\n",
    "from sqlalchemy.orm import sessionmaker\n",
    "from sqlalchemy.sql import *\n",
    "from datetime import datetime, timedelta\n",
    "from random import randint\n",
    "import os\n",
    "import csv\n",
    "import datetime\n",
    "import sys"
   ]
  },
  {
   "cell_type": "code",
   "execution_count": 241,
   "metadata": {},
   "outputs": [],
   "source": [
    "##################################\n",
    "## SQLAlchemy Declarative base\n",
    "# ################################\n",
    "# The declarative base is a function that returns \n",
    "# a new base class from which all mapped classes \n",
    "# should inherit.\n",
    "\n",
    "#Create the database\n",
    "engine = create_engine('sqlite:///energyData.sqlite')\n",
    "Base = declarative_base()"
   ]
  },
  {
   "cell_type": "code",
   "execution_count": 242,
   "metadata": {},
   "outputs": [],
   "source": [
    "##################################\n",
    "## Define Schema (i.e. Create Classes)\n",
    "##################################\n",
    "#Create a class that describes each table in the database\n",
    "\n",
    "class Energy_consumption_sector(Base):\n",
    "    __tablename__ = 'energy_consumption_sector'\n",
    "    __table_args__ = {'sqlite_autoincrement': True}\n",
    "    id = Column(Integer, primary_key=True, nullable=False)\n",
    "    State = Column(VARCHAR(40))\n",
    "    Residential = Column(Integer)\n",
    "    Commercial = Column(Integer)\n",
    "    Industrial = Column(Integer)\n",
    "    Transportation = Column(Integer)\n",
    "\n",
    "class Electricity_generation_source(Base):\n",
    "    __tablename__ = 'electricity_generation_source'\n",
    "    __table_args__ = {'sqlite_autoincrement': True}\n",
    "    id = Column(Integer, primary_key=True, nullable=False)\n",
    "    State = Column(VARCHAR(40))\n",
    "    Petroleum_Fired = Column(Integer)\n",
    "    Natural_Gas_Fired = Column(Integer)\n",
    "    Coal_Fired = Column(Integer)\n",
    "    Nuclear = Column(Integer)\n",
    "    Hydroelectric = Column(Integer)\n",
    "    Nonhydroelectric_Renewables = Column(Integer)\n",
    "\n",
    "Energy_consumption_sector.__table__.create(bind=engine, checkfirst=True)\n",
    "Electricity_generation_source.__table__.create(bind=engine, checkfirst=True)\n"
   ]
  },
  {
   "cell_type": "code",
   "execution_count": 257,
   "metadata": {},
   "outputs": [
    {
     "name": "stdout",
     "output_type": "stream",
     "text": [
      "[(\"b'Illinois'\", 891.6, 796.2, 1176.2, 1007.5), (\"b'Kentucky'\", 332.0, 257.0, 598.5, 470.7), (\"b'Texas'\", 1640.6, 1600.5, 6754.4, 3370.3)]\n",
      "(\"b'Illinois'\", 891.6, 796.2, 1176.2, 1007.5)\n",
      "<__main__.Energy_consumption_sector object at 0x000001E239A15CC0>\n",
      "(\"b'Kentucky'\", 332.0, 257.0, 598.5, 470.7)\n",
      "<__main__.Energy_consumption_sector object at 0x000001E239787A58>\n",
      "(\"b'Texas'\", 1640.6, 1600.5, 6754.4, 3370.3)\n",
      "<__main__.Energy_consumption_sector object at 0x000001E239A13710>\n"
     ]
    }
   ],
   "source": [
    "####################################\n",
    "## Extract: Use SQLAlchemy to Load CSV data into Tables\n",
    "####################################\n",
    "#Within the if statement that will create the database using \n",
    "# the classes that have already been described (see above)\n",
    " \n",
    " \n",
    "def load_1():\n",
    "    energy_consumption_sector_data = genfromtxt(\"./static/data/Energy_Consumption_by_Sector_2017.csv\", delimiter=',', skip_header=1, converters={0: lambda s: str(s)})\n",
    "    #print(energy_consumption_sector_data)\n",
    "    return energy_consumption_sector_data.tolist()\n",
    "\n",
    "#Create the session\n",
    "session = sessionmaker()\n",
    "session.configure(bind=engine)\n",
    "s = session()\n",
    "\n",
    "try:\n",
    "    data = load_1()\n",
    "    print(data)\n",
    "    for i in data:\n",
    "        print(i)\n",
    "        record = Energy_consumption_sector(**{\n",
    "                    'State' : i[0],\n",
    "                    'Residential' : i[1],\n",
    "                    'Commercial' : i[2],\n",
    "                    'Industrial' : i[3],\n",
    "                    'Transportation' : i[4]\n",
    "                        })\n",
    "        print(record)\n",
    "        s.add(record) #Add all the records\n",
    "\n",
    "    s.commit() #Attempt to commit all the records   \n",
    "#http://docs.pyexcel.org/en/latest/showcases/db_injection.html\n",
    "except:\n",
    "    s.rollback() #Rollback the changes on error\n",
    "finally:\n",
    "    s.close() #Close the connection\n",
    "#print(\"Time elapsed: \" + str(time() - t) + \" s.\") #0.091s\n"
   ]
  },
  {
   "cell_type": "code",
   "execution_count": 232,
   "metadata": {},
   "outputs": [
    {
     "data": {
      "text/plain": [
       "True"
      ]
     },
     "execution_count": 232,
     "metadata": {},
     "output_type": "execute_result"
    }
   ],
   "source": [
    "os.path.isfile(\"C:/Users/keg827/Documents/3 Data Science Bootcamp Code/project2_us_energy/static/data/Price_Differences_from_US_Average_Most_Recent_Monthly.csv\")"
   ]
  },
  {
   "cell_type": "code",
   "execution_count": 233,
   "metadata": {},
   "outputs": [
    {
     "data": {
      "text/plain": [
       "'C:\\\\Users\\\\keg827\\\\Documents\\\\3 Data Science Bootcamp Code\\\\project2_us_energy'"
      ]
     },
     "execution_count": 233,
     "metadata": {},
     "output_type": "execute_result"
    }
   ],
   "source": [
    "os.getcwd()"
   ]
  },
  {
   "cell_type": "code",
   "execution_count": 265,
   "metadata": {},
   "outputs": [
    {
     "name": "stdout",
     "output_type": "stream",
     "text": [
      "(\"b'Illinois'\", 4.0, 985.0, 4543.0, 7641.0, 0.0, 1255.0)\n",
      "<__main__.Electricity_generation_source object at 0x000001E239A1DFD0>\n",
      "(\"b'Kentucky'\", 8.0, 877.0, 4353.0, 0.0, 316.0, 39.0)\n",
      "<__main__.Electricity_generation_source object at 0x000001E239A1DF60>\n",
      "(\"b'Texas'\", 4.0, 15251.0, 7450.0, 3430.0, 150.0, 6962.0)\n",
      "<__main__.Electricity_generation_source object at 0x000001E239A1D4A8>\n",
      "session is closed\n"
     ]
    }
   ],
   "source": [
    "####################################\n",
    "## Extract: Use SQLAlchemy to Load CSV data into Tables\n",
    "####################################\n",
    "\n",
    "\n",
    "def load_2():\n",
    "    electricity_generation_source = genfromtxt(\"C:/Users/keg827/Documents/3 Data Science Bootcamp Code/project2_us_energy/static/data/Electricity_Generation_by_Source_2019.csv\", delimiter=',', skip_header=1, converters={0: lambda s: str(s)})\n",
    "    #print(electricity_generation_source)\n",
    "    return electricity_generation_source.tolist() \n",
    "\n",
    "\n",
    "#Create the session\n",
    "session = sessionmaker()\n",
    "session.configure(bind=engine)\n",
    "s = session()\n",
    "\n",
    "try:\n",
    "    data_2 = load_2()\n",
    "    #print(data_2)\n",
    "    for a in data_2:\n",
    "        print(a)\n",
    "        \n",
    "        record_2 = Electricity_generation_source(**{\n",
    "                    'State' : a[0],\n",
    "                    'Petroleum_Fired' : a[1],\n",
    "                    'Natural_Gas_Fired' : a[2],\n",
    "                    'Coal_Fired' : a[3],\n",
    "                    'Nuclear' : a[4],\n",
    "                    'Hydroelectric': a[5],\n",
    "                    'Nonhydroelectric_Renewables': a[6]\n",
    "                        })\n",
    "        print(record_2)\n",
    "        s.add(record_2) #Add all the records\n",
    "\n",
    "    s.commit() #Attempt to commit all the records   \n",
    "#http://docs.pyexcel.org/en/latest/showcases/db_injection.html\n",
    "except:\n",
    "     s.rollback() #Rollback the changes on error\n",
    "     print(\"there was an error\")\n",
    "finally:\n",
    "     s.close() #Close the connection\n",
    "     print(\"session is closed\")\n",
    "#print(\"Time elapsed: \" + str(time() - t) + \" s.\") #0.091s"
   ]
  },
  {
   "cell_type": "code",
   "execution_count": 134,
   "metadata": {},
   "outputs": [],
   "source": [
    "# energy_consumption_sector_list = []\n",
    "# electricity_generation_source_list = []\n",
    " \n",
    "# for state in energy_consumption_sector:\n",
    "#         row = {}\n",
    "#         row['State'] : state[State]\n",
    "#         row['Residential'] : state[Residential]\n",
    "#         row['Commercial'] : state[Commercial]\n",
    "#         row['Industrial'] : state[Industrial]\n",
    "#         row['Transportation'] : state[Transportation]\n",
    "#         energy_consumption_sector_list.append(row)\n",
    "#         print(energy_consumption_sector_list)\n",
    "# for i in electricity_generation_source:\n",
    "#     row = {}\n",
    "#     row['State']: i[State],\n",
    "#     row['Petroleum_Fired'] : i[Petroleum_Fired],\n",
    "#     row['Natural_Gas_Fired'] : i[Natural_Gas_Fired],\n",
    "#     row['Coal_Fired'] : i[Coal_Fired],\n",
    "#     row['Nuclear']: i[Nuclear],\n",
    "#     row['Hydroelectric'] : i[Hydroelectric],\n",
    "#     row['Nonhydroelectric_Renewables'] : i[Nonhydroelectric_Renewables]\n",
    "#     electricity_generation_source_list.append(row)           \n",
    " "
   ]
  },
  {
   "cell_type": "code",
   "execution_count": 136,
   "metadata": {},
   "outputs": [],
   "source": [
    "# #Create the session\n",
    "# Session = sessionmaker(bind=engine)\n",
    "# session = Session()\n",
    "\n",
    "# for x in energy_conumption_sector:\n",
    "#     row = energy_conumption_sector(x)\n",
    "#     session.add(row)\n",
    "\n",
    "# for x in energy_consumption_sector_list:\n",
    "#     row = energy_conumption_sector(**x)\n",
    "#     session.add(row)\n",
    "\n",
    "\n",
    "# session.commit() #Attempt to commit all the records\n",
    "# session.close() #Close the connection"
   ]
  },
  {
   "cell_type": "code",
   "execution_count": 204,
   "metadata": {},
   "outputs": [],
   "source": [
    "#Create the session\n",
    "# Session = sessionmaker(bind=engine)\n",
    "# session = Session()\n",
    "\n",
    "# try: \n",
    "#     for i in energy_consumption_sector:\n",
    "#         record = energy_consumption_sector(**{\n",
    "#                 'State' : i[0],\n",
    "#                 'Residential' : i[1],\n",
    "#                 'Commercial' : i[2],\n",
    "#                 'Industrial' : i[3],\n",
    "#                 'Transportation' : i[4]\n",
    "#                     })\n",
    "#         session.add(record) #Add all the records\n",
    "\n",
    "#     session.commit() #Attempt to commit all the records   \n",
    "# #http://docs.pyexcel.org/en/latest/showcases/db_injection.html"
   ]
  },
  {
   "cell_type": "code",
   "execution_count": 213,
   "metadata": {},
   "outputs": [],
   "source": [
    "# #Create the session\n",
    "# Session = sessionmaker(bind=engine)\n",
    "# session = Session()\n",
    "    \n",
    "# for state in energy_consumption_sector:\n",
    "#     print(state)\n",
    "\n",
    "# session.add(energy_consumption_sector)\n",
    "# session.commit()\n",
    "# #     row['State'] : i[state]\n",
    "# #     row['Residential'] : i[state]\n",
    "# #     row['Commercial'] : i[state]\n",
    "# #     row['Industrial'] : i[state]\n",
    "# #     row['Transportation'] : i[state]\n",
    "# #     energy_consumption_sector_list.append(row)\n",
    "# # print(energy_consumption_sector_list)\n",
    "\n",
    "# # session.add(energy_consumption_sector_list)"
   ]
  },
  {
   "cell_type": "code",
   "execution_count": null,
   "metadata": {},
   "outputs": [],
   "source": []
  }
 ],
 "metadata": {
  "kernelspec": {
   "display_name": "Python 3",
   "language": "python",
   "name": "python3"
  },
  "language_info": {
   "codemirror_mode": {
    "name": "ipython",
    "version": 3
   },
   "file_extension": ".py",
   "mimetype": "text/x-python",
   "name": "python",
   "nbconvert_exporter": "python",
   "pygments_lexer": "ipython3",
   "version": "3.7.0"
  }
 },
 "nbformat": 4,
 "nbformat_minor": 2
}
